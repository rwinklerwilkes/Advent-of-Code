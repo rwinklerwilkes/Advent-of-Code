{
 "cells": [
  {
   "cell_type": "markdown",
   "metadata": {},
   "source": [
    "<a id=\"top\"/>"
   ]
  },
  {
   "cell_type": "markdown",
   "metadata": {},
   "source": [
    "# Table of Contents\n",
    "1. [Problem 1](#p1)\n",
    "1. [Problem 2](#p2)\n",
    "1. [Problem 3](#p3)\n",
    "1. [Problem 4](#p4)\n",
    "1. [Problem 5](#p5)\n",
    "1. [Problem 6](#p6)\n",
    "1. [Problem 7](#p7)\n",
    "1. [Problem 8](#p8)\n",
    "1. [Problem 9](#p9)\n",
    "1. [Problem 10](#p10)\n",
    "1. [Problem 11](#p11)\n",
    "1. [Problem 12](#p12)\n",
    "1. [Problem 13](#p13)\n",
    "1. [Problem 14](#p14)\n",
    "1. [Problem 15](#p15)\n",
    "1. [Problem 16](#p16)\n",
    "1. [Problem 17](#p17)\n",
    "1. [Problem 18](#p18)\n",
    "1. [Problem 19](#p19)\n",
    "1. [Problem 22](#p22)"
   ]
  },
  {
   "cell_type": "code",
   "execution_count": 8,
   "metadata": {},
   "outputs": [],
   "source": [
    "import pandas as pd\n",
    "import math"
   ]
  },
  {
   "cell_type": "markdown",
   "metadata": {},
   "source": [
    "# Problem 1\n",
    "<a id=\"p1\"></a>"
   ]
  },
  {
   "cell_type": "code",
   "execution_count": 4,
   "metadata": {},
   "outputs": [],
   "source": [
    "df = pd.read_csv('input1.txt',header=None,names=['mass'])"
   ]
  },
  {
   "cell_type": "code",
   "execution_count": 18,
   "metadata": {},
   "outputs": [],
   "source": [
    "def fuel_rec(mass):\n",
    "    mass = math.floor(mass/3)-2\n",
    "    mass_step = math.floor(mass/3)-2\n",
    "    while mass_step > 0:\n",
    "        mass += mass_step\n",
    "        mass_step = math.floor(mass_step/3)-2\n",
    "    return mass\n",
    "    \n",
    "\n",
    "df['fuel'] = df['mass'].apply(fuel_rec)"
   ]
  },
  {
   "cell_type": "code",
   "execution_count": 22,
   "metadata": {},
   "outputs": [
    {
     "data": {
      "text/plain": [
       "4907345"
      ]
     },
     "execution_count": 22,
     "metadata": {},
     "output_type": "execute_result"
    }
   ],
   "source": [
    "sum(df['fuel'])"
   ]
  },
  {
   "cell_type": "markdown",
   "metadata": {},
   "source": [
    "# Problem 2\n",
    "<a id=\"p2\"/>"
   ]
  },
  {
   "cell_type": "code",
   "execution_count": 65,
   "metadata": {},
   "outputs": [],
   "source": [
    "def add(opcode,pos0,pos1):\n",
    "    return opcode[pos0] + opcode[pos1]\n",
    "\n",
    "def mult(opcode,pos0,pos1):\n",
    "    return opcode[pos0] * opcode[pos1]\n",
    "\n",
    "def sub(opcode,pos0,pos1):\n",
    "    return opcode[pos0] - opcode[pos1]\n",
    "\n",
    "def div(opcode,pos0,pos1):\n",
    "    return opcode[pos0] / opcode[pos1]\n",
    "\n",
    "def parse(code):\n",
    "    opcode = code.copy()\n",
    "    pos = 0\n",
    "    inst = []\n",
    "    while opcode[pos] != 99:\n",
    "        pos0 = opcode[pos+1]\n",
    "        pos1 = opcode[pos+2]\n",
    "        writepos = opcode[pos+3]\n",
    "        #add\n",
    "        if opcode[pos] == 1:\n",
    "            res = add(opcode,pos0,pos1)\n",
    "            inst.append(['add',pos0,pos1,writepos])\n",
    "        #mult\n",
    "        elif opcode[pos] == 2:\n",
    "            res = mult(opcode,pos0,pos1)\n",
    "            inst.append(['mult',pos0,pos1,writepos])\n",
    "        opcode[writepos] = res\n",
    "        #move\n",
    "        pos += 4\n",
    "    return opcode, inst"
   ]
  },
  {
   "cell_type": "code",
   "execution_count": 57,
   "metadata": {},
   "outputs": [],
   "source": [
    "opcode = parse([2,4,4,5,99,0])"
   ]
  },
  {
   "cell_type": "code",
   "execution_count": 59,
   "metadata": {},
   "outputs": [
    {
     "data": {
      "text/plain": [
       "([2, 4, 4, 5, 99, 9801], [['mult', 4, 4]])"
      ]
     },
     "execution_count": 59,
     "metadata": {},
     "output_type": "execute_result"
    }
   ],
   "source": [
    "opcode"
   ]
  },
  {
   "cell_type": "code",
   "execution_count": 68,
   "metadata": {},
   "outputs": [],
   "source": [
    "opcode_inst = []\n",
    "with open('input2.txt','r') as f:\n",
    "    for line in f:\n",
    "        opcode_inst.append([int(i) for i in line.split(',')])\n",
    "opcode_inst = opcode_inst[0]"
   ]
  },
  {
   "cell_type": "code",
   "execution_count": 61,
   "metadata": {},
   "outputs": [],
   "source": [
    "opcode_inst[1] = 12\n",
    "opcode_inst[2] = 2"
   ]
  },
  {
   "cell_type": "code",
   "execution_count": 66,
   "metadata": {},
   "outputs": [],
   "source": [
    "opcode, inst = parse(opcode_inst)\n",
    "print(opcode[0])"
   ]
  },
  {
   "cell_type": "code",
   "execution_count": 73,
   "metadata": {},
   "outputs": [
    {
     "name": "stdout",
     "output_type": "stream",
     "text": [
      "79 60\n",
      "Answer: 7960\n"
     ]
    }
   ],
   "source": [
    "for noun in range(100):\n",
    "    for verb in range(100):\n",
    "        oc = opcode_inst.copy()\n",
    "        oc[1] = noun\n",
    "        oc[2] = verb\n",
    "        opcode,_ = parse(oc)\n",
    "        if opcode[0] == 19690720:\n",
    "            print(noun, verb)\n",
    "            print('Answer: %i'%(100*noun + verb))\n",
    "            break"
   ]
  },
  {
   "cell_type": "markdown",
   "metadata": {},
   "source": [
    "# Problem 3\n",
    "<a id=\"p3\"/>"
   ]
  },
  {
   "cell_type": "code",
   "execution_count": 75,
   "metadata": {},
   "outputs": [],
   "source": [
    "import numpy as np"
   ]
  },
  {
   "cell_type": "code",
   "execution_count": 191,
   "metadata": {},
   "outputs": [],
   "source": [
    "def trace_wire(inst_list):\n",
    "    cp = np.array([0,0])\n",
    "    wire = [cp]\n",
    "    pos = cp\n",
    "    for inst in inst_list:\n",
    "        direction = inst[0]\n",
    "        length = int(inst[1:])\n",
    "        if direction == 'R':\n",
    "            add = (1,0)\n",
    "        elif direction == 'U':\n",
    "            add = (0,-1)\n",
    "        elif direction == 'L':\n",
    "            add = (-1,0)\n",
    "        elif direction == 'D':\n",
    "            add = (0,1)\n",
    "        while length > 0:\n",
    "            new_pos = pos + add\n",
    "            wire.append(new_pos)\n",
    "            pos = new_pos\n",
    "            length -= 1\n",
    "    return np.array(wire)\n",
    "\n",
    "def intersect_wires(wire_one,wire_two):\n",
    "    nrows, ncols = wire_one.shape\n",
    "    dtype={'names':['f{}'.format(i) for i in range(ncols)],\n",
    "           'formats':ncols * [wire_one.dtype]}\n",
    "\n",
    "    intersection = np.intersect1d(wire_one.view(dtype), wire_two.view(dtype))\n",
    "    return intersection\n",
    "\n",
    "def min_dist_steps(wire_one,wire_two,intersection):\n",
    "    intersect_dict = {}\n",
    "    for i in intersection:\n",
    "        j = np.array(list(i))\n",
    "        intersect_str = str(j)\n",
    "        minstep_w1 = min(np.where(np.all(wire_one == j, axis=1)))\n",
    "        minstep_w2 = min(np.where(np.all(wire_two == j, axis=1)))\n",
    "        intersect_dict[intersect_str] = minstep_w1 + minstep_w2\n",
    "        \n",
    "    minval = None\n",
    "    for k,v in intersect_dict.items():\n",
    "        if v > 0 and (minval is None or v < minval):\n",
    "            minval = v\n",
    "#     print(f'Answer: {minval}')\n",
    "    return minval[0]\n",
    "        \n",
    "\n",
    "def min_dist(intersection):\n",
    "    mindist = None\n",
    "    mini = None\n",
    "    for i in intersection:\n",
    "        dist = abs(i[0]) + abs(i[1])\n",
    "        if dist > 0 and (mindist is None or dist < mindist):\n",
    "            mindist = dist\n",
    "            mini = i\n",
    "    return mindist\n",
    "\n",
    "def run_program(instruction):\n",
    "    instructions = [[j for j in i.split(',')] for i in instruction.split('\\n')]\n",
    "    wire_one = trace_wire(instructions[0])\n",
    "    wire_two = trace_wire(instructions[1])\n",
    "    intersection = intersect_wires(wire_one,wire_two)\n",
    "    md = min_dist(intersection)\n",
    "    print(f'Answer: {md}')\n",
    "    return wire_one, wire_two, intersection\n",
    "\n",
    "def run_program_part2(instruction):\n",
    "    instructions = [[j for j in i.split(',')] for i in instruction.split('\\n')]\n",
    "    wire_one = trace_wire(instructions[0])\n",
    "    wire_two = trace_wire(instructions[1])\n",
    "    intersection = intersect_wires(wire_one,wire_two)\n",
    "    md = min_dist_steps(wire_one,wire_two,intersection)\n",
    "    print(f'Answer: {md}')\n",
    "    return wire_one, wire_two, intersection"
   ]
  },
  {
   "cell_type": "code",
   "execution_count": 127,
   "metadata": {},
   "outputs": [
    {
     "name": "stdout",
     "output_type": "stream",
     "text": [
      "Answer: 6\n"
     ]
    }
   ],
   "source": [
    "instruction = \"\"\"R8,U5,L5,D3\n",
    "U7,R6,D4,L4\n",
    "\"\"\"\n",
    "run_program(instruction)"
   ]
  },
  {
   "cell_type": "code",
   "execution_count": 192,
   "metadata": {},
   "outputs": [
    {
     "name": "stdout",
     "output_type": "stream",
     "text": [
      "Answer: 610\n"
     ]
    }
   ],
   "source": [
    "instruction = '''R75,D30,R83,U83,L12,D49,R71,U7,L72\n",
    "U62,R66,U55,R34,D71,R55,D58,R83'''\n",
    "w1, w2, i = run_program_part2(instruction)"
   ]
  },
  {
   "cell_type": "code",
   "execution_count": 193,
   "metadata": {},
   "outputs": [
    {
     "name": "stdout",
     "output_type": "stream",
     "text": [
      "Answer: 896\n",
      "Answer: 16524\n"
     ]
    }
   ],
   "source": [
    "with open('input3.txt','r') as f:\n",
    "    instruction = f.read()\n",
    "w1, w2, i = run_program(instruction)\n",
    "w1, w2, i = run_program_part2(instruction)"
   ]
  },
  {
   "cell_type": "markdown",
   "metadata": {},
   "source": [
    "# Problem 4\n",
    "<a id=\"p4\"/>"
   ]
  },
  {
   "cell_type": "code",
   "execution_count": 12,
   "metadata": {},
   "outputs": [],
   "source": [
    "def check_num(num):\n",
    "    strnum = str(num)\n",
    "    monotonic = True\n",
    "    duplicate = False\n",
    "    #Check for monotonicity\n",
    "    for i,val in enumerate(strnum[:-1]):\n",
    "        if strnum[i] > strnum[i+1]:\n",
    "            monotonic = False\n",
    "            break\n",
    "        if strnum[i] == strnum[i+1]:\n",
    "            duplicate = True\n",
    "    \n",
    "    if not monotonic or not duplicate:\n",
    "        return False\n",
    "    return True\n",
    "\n",
    "def check_num_pt2(num):\n",
    "    strnum = str(num)\n",
    "    monotonic = True\n",
    "    duplicate = False\n",
    "    dup_ct = {}\n",
    "    \n",
    "    for i,val in enumerate(strnum[:-1]):\n",
    "        if strnum[i] > strnum[i+1]:\n",
    "            monotonic = False\n",
    "            break\n",
    "        if strnum[i] == strnum[i+1]:\n",
    "            duplicate = True\n",
    "            dup_ct[val] = dup_ct.get(val,1) + 1\n",
    "           \n",
    "    keep_dup = False\n",
    "    for k,v in dup_ct.items():\n",
    "        if v == 2:\n",
    "            keep_dup = True\n",
    "    if not keep_dup:\n",
    "        duplicate = False\n",
    "    \n",
    "    if not monotonic or not duplicate:\n",
    "        return False\n",
    "    return True\n",
    "\n",
    "def enumerate_possibilities(pass_range,part_two=False):\n",
    "    low = pass_range[0]\n",
    "    high = pass_range[1]\n",
    "    ctr = 0\n",
    "    for num in range(low,high+1):\n",
    "        if part_two:\n",
    "            if check_num_pt2(num):\n",
    "                ctr += 1\n",
    "        else:\n",
    "            if check_num(num):\n",
    "                ctr += 1\n",
    "    return ctr"
   ]
  },
  {
   "cell_type": "code",
   "execution_count": 4,
   "metadata": {},
   "outputs": [
    {
     "name": "stdout",
     "output_type": "stream",
     "text": [
      "Answer: 2150\n"
     ]
    }
   ],
   "source": [
    "print('Answer: %i'%enumerate_possibilities([124075,580769],False))"
   ]
  },
  {
   "cell_type": "code",
   "execution_count": 15,
   "metadata": {},
   "outputs": [
    {
     "name": "stdout",
     "output_type": "stream",
     "text": [
      "Answer: 1462\n"
     ]
    }
   ],
   "source": [
    "print('Answer: %i'%enumerate_possibilities([124075,580769],True))"
   ]
  },
  {
   "cell_type": "markdown",
   "metadata": {},
   "source": [
    "# Problem 5\n",
    "<a id=\"p5\"/>"
   ]
  },
  {
   "cell_type": "code",
   "execution_count": 145,
   "metadata": {},
   "outputs": [],
   "source": [
    "def deref(opcode,pos0,pos1,modes):\n",
    "    if modes[1] == 1:\n",
    "        a = pos0\n",
    "    else:\n",
    "        a = opcode[pos0]\n",
    "    if modes[2] == 1:\n",
    "        b = pos1\n",
    "    else:\n",
    "        b = opcode[pos1]\n",
    "    return a,b\n",
    "\n",
    "def dispatch(func,opcode,pos0,pos1,modes):\n",
    "    a,b = deref(opcode,pos0,pos1,modes)\n",
    "    return func(a,b)\n",
    "\n",
    "def add(a,b):\n",
    "    return a+b\n",
    "\n",
    "def mult(a,b):\n",
    "    return a*b\n",
    "\n",
    "def save(opcode,pos0,input_val,modes):       \n",
    "    opcode[pos0] = input_val\n",
    "    return opcode\n",
    "\n",
    "def get(opcode,pos0,modes):\n",
    "    if modes[1] == 1:\n",
    "        a = pos0\n",
    "    else:\n",
    "        a = opcode[pos0]\n",
    "    return a\n",
    "\n",
    "def jt(a,b):\n",
    "    if a > 0:\n",
    "        return b\n",
    "    else:\n",
    "        return None\n",
    "\n",
    "def jf(a,b):\n",
    "    if a == 0:\n",
    "        return b\n",
    "    else:\n",
    "        return None\n",
    "\n",
    "def lt(a,b):\n",
    "    return (a<b)*1\n",
    "\n",
    "def eq(a,b):\n",
    "    return (a==b)*1\n",
    "\n",
    "def translate_immediate(immediate_inst):\n",
    "    imi = str(immediate_inst)\n",
    "    inst = int(imi[-2:])\n",
    "    modes = {}\n",
    "    try:\n",
    "        modes[1] = int(imi[-3])\n",
    "    except:\n",
    "        modes[1] = 0\n",
    "    try:\n",
    "        modes[2] = int(imi[-4])\n",
    "    except:\n",
    "        modes[2] = 0\n",
    "    try:\n",
    "        modes[3] = int(imi[-5])\n",
    "    except:\n",
    "        modes[3] = 0\n",
    "    return inst,modes\n",
    "    \n",
    "\n",
    "def parse(code,input_val=1):\n",
    "    if type(code) == str:\n",
    "        code = [int(i) for i in code.split(',')]\n",
    "    opcode = code.copy()\n",
    "    pos = 0\n",
    "    inst_stack = []\n",
    "    \n",
    "    while opcode[pos] != 99:\n",
    "        immediate = False\n",
    "        inst = opcode[pos]\n",
    "        if inst not in [1,2,3,4,5,6,7,8]:\n",
    "            #interpret as immediate mode\n",
    "            inst, modes = translate_immediate(inst)\n",
    "        else:\n",
    "            modes = {i:0 for i in range(1,4)}\n",
    "            \n",
    "        functions = {\n",
    "            1:add,\n",
    "            2:mult,\n",
    "            5:jt,\n",
    "            6:jf,\n",
    "            7:lt,\n",
    "            8:eq\n",
    "        }\n",
    "            \n",
    "        if inst in [1,2,7,8]:\n",
    "            pos0 = opcode[pos+1]\n",
    "            pos1 = opcode[pos+2]\n",
    "            writepos = opcode[pos+3]\n",
    "            func = functions[inst]\n",
    "            params = {\n",
    "                'func':func,\n",
    "                'opcode':opcode,\n",
    "                'pos0':pos0,\n",
    "                'pos1':pos1,\n",
    "                'modes':modes\n",
    "            }\n",
    "            #addition\n",
    "            res = dispatch(**params)\n",
    "            inst_stack.append([func.__name__,pos0,pos1,writepos,modes])\n",
    "            \n",
    "            opcode[writepos] = res\n",
    "            pos += 4\n",
    "        elif inst in [3,4]:\n",
    "            pos0 = opcode[pos+1]\n",
    "            if inst == 3:\n",
    "                opcode = save(opcode,pos0,input_val,modes)\n",
    "            elif inst == 4:\n",
    "                test_res = get(opcode,pos0,modes)\n",
    "#                 if test_res:\n",
    "#                     print(f'DIAGNOSTIC ERROR: {pos}')\n",
    "                print(test_res)\n",
    "            pos += 2\n",
    "        elif inst in [5,6]:\n",
    "            pos0 = opcode[pos+1]\n",
    "            pos1 = opcode[pos+2]\n",
    "            func = functions[inst]\n",
    "            params = {\n",
    "                'func':func,\n",
    "                'opcode':opcode,\n",
    "                'pos0':pos0,\n",
    "                'pos1':pos1,\n",
    "                'modes':modes\n",
    "            }\n",
    "            #addition\n",
    "            res = dispatch(**params)\n",
    "            if res:\n",
    "                pos = res\n",
    "            else:\n",
    "                pos += 3\n",
    "            inst_stack.append([func.__name__,pos0,pos1,None,modes])\n",
    "            \n",
    "    return opcode, inst"
   ]
  },
  {
   "cell_type": "code",
   "execution_count": 104,
   "metadata": {},
   "outputs": [],
   "source": [
    "with open('input5.txt','r') as f:\n",
    "    instructions = [line for line in f]\n",
    "instruction = instructions[0]"
   ]
  },
  {
   "cell_type": "code",
   "execution_count": 146,
   "metadata": {},
   "outputs": [
    {
     "name": "stdout",
     "output_type": "stream",
     "text": [
      "0\n",
      "0\n",
      "0\n",
      "0\n",
      "0\n",
      "0\n",
      "0\n",
      "0\n",
      "0\n",
      "16489636\n"
     ]
    }
   ],
   "source": [
    "o, i = parse(instruction,input_val=1)"
   ]
  },
  {
   "cell_type": "code",
   "execution_count": 157,
   "metadata": {},
   "outputs": [
    {
     "name": "stdout",
     "output_type": "stream",
     "text": [
      "9386583\n"
     ]
    }
   ],
   "source": [
    "o, i = parse(instruction,input_val=5)"
   ]
  },
  {
   "cell_type": "markdown",
   "metadata": {},
   "source": [
    "# Problem 6\n",
    "<a id=\"p6\"/>"
   ]
  },
  {
   "cell_type": "code",
   "execution_count": 46,
   "metadata": {},
   "outputs": [],
   "source": [
    "class Planet:\n",
    "    def __init__(self,name):\n",
    "        self.name = name\n",
    "        self.orbit = None\n",
    "        self.orbited_by = []\n",
    "        self.visited = False\n",
    "        self.parent = None\n",
    "        \n",
    "    def add_orbit(self,other):\n",
    "        self.orbit = other\n",
    "        other.orbited_by.append(self)\n",
    "        \n",
    "    def has_orbit(self):\n",
    "        return self.orbit is not None\n",
    "        \n",
    "    def get_orbit(self):\n",
    "        return self.orbit\n",
    "    \n",
    "    def reset(self):\n",
    "        self.parent = None\n",
    "        self.visited = False\n",
    "    \n",
    "def get_planet(p):\n",
    "    if p not in planet_map:\n",
    "        planet_map[p] = Planet(p)\n",
    "    return planet_map[p]\n",
    "    \n",
    "def count_orbits(planet_map):\n",
    "    orbit_ctr = 0\n",
    "    for k,planet in planet_map.items():\n",
    "        orb_planet = planet\n",
    "        while orb_planet.has_orbit():\n",
    "            orbit_ctr += 1\n",
    "            orb_planet = orb_planet.get_orbit()\n",
    "    return orbit_ctr\n",
    "\n",
    "def reset_planets(planet_map):\n",
    "    for k,v in planet_map.items():\n",
    "        v.reset()\n",
    "\n",
    "def bfs(planet_map,start,target):\n",
    "    start_p = planet_map[start]\n",
    "    start_p.visited = True\n",
    "    q = [start_p]\n",
    "    while q:\n",
    "        v = q.pop()\n",
    "        if v.name == target:\n",
    "            break\n",
    "        targets = [v.orbit] + v.orbited_by\n",
    "        for t in targets:\n",
    "            if not t.visited:\n",
    "                t.visited = True\n",
    "                t.parent = v\n",
    "                q.append(t)\n",
    "    \n",
    "    parent_ct = 0\n",
    "    while v.parent is not None:\n",
    "        parent_ct += 1\n",
    "        v = v.parent\n",
    "        \n",
    "    reset_planets(planet_map)\n",
    "    return parent_ct"
   ]
  },
  {
   "cell_type": "code",
   "execution_count": 55,
   "metadata": {},
   "outputs": [],
   "source": [
    "orbit_map = [\n",
    "    'COM)B',\n",
    "    'B)C',\n",
    "    'C)D',\n",
    "    'D)E',\n",
    "    'E)F',\n",
    "    'B)G',\n",
    "    'G)H',\n",
    "    'D)I',\n",
    "    'E)J',\n",
    "    'J)K',\n",
    "    'K)L'\n",
    "]\n",
    "planet_map = {}\n",
    "for o in orbit_map:\n",
    "    p = o.split(')')\n",
    "    planet0 = get_planet(p[0])\n",
    "    planet1 = get_planet(p[1])\n",
    "    planet1.add_orbit(planet0)"
   ]
  },
  {
   "cell_type": "code",
   "execution_count": 56,
   "metadata": {},
   "outputs": [
    {
     "data": {
      "text/plain": [
       "42"
      ]
     },
     "execution_count": 56,
     "metadata": {},
     "output_type": "execute_result"
    }
   ],
   "source": [
    "count_orbits(planet_map)"
   ]
  },
  {
   "cell_type": "code",
   "execution_count": 57,
   "metadata": {},
   "outputs": [
    {
     "data": {
      "text/plain": [
       "4"
      ]
     },
     "execution_count": 57,
     "metadata": {},
     "output_type": "execute_result"
    }
   ],
   "source": [
    "bfs(planet_map,'K','I')"
   ]
  },
  {
   "cell_type": "code",
   "execution_count": 58,
   "metadata": {},
   "outputs": [],
   "source": [
    "planet_map = {}\n",
    "with open('input6.txt','r') as f:\n",
    "    for line in f:\n",
    "        p = line.strip().split(')')\n",
    "        planet0 = get_planet(p[0])\n",
    "        planet1 = get_planet(p[1])\n",
    "        planet1.add_orbit(planet0)"
   ]
  },
  {
   "cell_type": "code",
   "execution_count": 59,
   "metadata": {},
   "outputs": [
    {
     "data": {
      "text/plain": [
       "122782"
      ]
     },
     "execution_count": 59,
     "metadata": {},
     "output_type": "execute_result"
    }
   ],
   "source": [
    "count_orbits(planet_map)"
   ]
  },
  {
   "cell_type": "code",
   "execution_count": 64,
   "metadata": {},
   "outputs": [
    {
     "name": "stdout",
     "output_type": "stream",
     "text": [
      "YOU are orbiting MF5\n",
      "SAN is orbiting GTY\n"
     ]
    }
   ],
   "source": [
    "#YOU orbiting\n",
    "print('YOU are orbiting %s'%planet_map['YOU'].orbit.name)\n",
    "#SAN orbiting\n",
    "print('SAN is orbiting %s'%planet_map['SAN'].orbit.name)"
   ]
  },
  {
   "cell_type": "code",
   "execution_count": 65,
   "metadata": {},
   "outputs": [
    {
     "data": {
      "text/plain": [
       "271"
      ]
     },
     "execution_count": 65,
     "metadata": {},
     "output_type": "execute_result"
    }
   ],
   "source": [
    "bfs(planet_map,'MF5','GTY')"
   ]
  },
  {
   "cell_type": "markdown",
   "metadata": {},
   "source": [
    "# Problem 7\n",
    "<a id=\"p7\"/>"
   ]
  },
  {
   "cell_type": "code",
   "execution_count": 84,
   "metadata": {},
   "outputs": [],
   "source": [
    "import itertools\n",
    "\n",
    "def deref(opcode,pos0,pos1,modes):\n",
    "    if modes[1] == 1:\n",
    "        a = pos0\n",
    "    else:\n",
    "        a = opcode[pos0]\n",
    "    if modes[2] == 1:\n",
    "        b = pos1\n",
    "    else:\n",
    "        b = opcode[pos1]\n",
    "    return a,b\n",
    "\n",
    "def dispatch(func,opcode,pos0,pos1,modes):\n",
    "    a,b = deref(opcode,pos0,pos1,modes)\n",
    "    return func(a,b)\n",
    "\n",
    "def add(a,b):\n",
    "    return a+b\n",
    "\n",
    "def mult(a,b):\n",
    "    return a*b\n",
    "\n",
    "def save(opcode,pos0,input_val,modes):       \n",
    "    opcode[pos0] = input_val\n",
    "    return opcode\n",
    "\n",
    "def get(opcode,pos0,modes):\n",
    "    if modes[1] == 1:\n",
    "        a = pos0\n",
    "    else:\n",
    "        a = opcode[pos0]\n",
    "    return a\n",
    "\n",
    "def jt(a,b):\n",
    "    if a > 0:\n",
    "        return b\n",
    "    else:\n",
    "        return None\n",
    "\n",
    "def jf(a,b):\n",
    "    if a == 0:\n",
    "        return b\n",
    "    else:\n",
    "        return None\n",
    "\n",
    "def lt(a,b):\n",
    "    return (a<b)*1\n",
    "\n",
    "def eq(a,b):\n",
    "    return (a==b)*1\n",
    "\n",
    "def translate_immediate(immediate_inst):\n",
    "    imi = str(immediate_inst)\n",
    "    inst = int(imi[-2:])\n",
    "    modes = {}\n",
    "    try:\n",
    "        modes[1] = int(imi[-3])\n",
    "    except:\n",
    "        modes[1] = 0\n",
    "    try:\n",
    "        modes[2] = int(imi[-4])\n",
    "    except:\n",
    "        modes[2] = 0\n",
    "    try:\n",
    "        modes[3] = int(imi[-5])\n",
    "    except:\n",
    "        modes[3] = 0\n",
    "    return inst,modes\n",
    "\n",
    "class Amplifier():\n",
    "    def __init__(self,instruction,input_vals=[0]):\n",
    "        self.input_buffer = input_vals\n",
    "        self.output_buffer = []\n",
    "        self.instruction = [int(i) for i in instruction.split(',')]\n",
    "        self.paused = False\n",
    "        self.finished = False\n",
    "        self.pos = 0\n",
    "        \n",
    "    def set_output(self,other):\n",
    "        self.output_buffer = other.input_buffer\n",
    "        \n",
    "    def get_pos(self):\n",
    "        return self.pos\n",
    "    \n",
    "    def set_pos(self,val):\n",
    "        self.pos = val\n",
    "    \n",
    "    def increment_pos(self,val):\n",
    "        self.pos += val\n",
    "        \n",
    "    def run(self,suppress_output=True):\n",
    "        opcode = self.instruction\n",
    "        inst_stack = []\n",
    "        test_results = []\n",
    "        \n",
    "        pos = self.get_pos()\n",
    "        while opcode[pos] != 99:\n",
    "            pos = self.get_pos()\n",
    "            \n",
    "            immediate = False\n",
    "            inst = opcode[pos]\n",
    "            if inst not in [1,2,3,4,5,6,7,8]:\n",
    "                #interpret as immediate mode\n",
    "                inst, modes = translate_immediate(inst)\n",
    "            else:\n",
    "                modes = {i:0 for i in range(1,4)}\n",
    "\n",
    "            functions = {\n",
    "                1:add,\n",
    "                2:mult,\n",
    "                5:jt,\n",
    "                6:jf,\n",
    "                7:lt,\n",
    "                8:eq\n",
    "            }\n",
    "\n",
    "            if inst in [1,2,7,8]:\n",
    "                pos0 = opcode[pos+1]\n",
    "                pos1 = opcode[pos+2]\n",
    "                writepos = opcode[pos+3]\n",
    "                func = functions[inst]\n",
    "                params = {\n",
    "                    'func':func,\n",
    "                    'opcode':opcode,\n",
    "                    'pos0':pos0,\n",
    "                    'pos1':pos1,\n",
    "                    'modes':modes\n",
    "                }\n",
    "                #addition\n",
    "                res = dispatch(**params)\n",
    "                inst_stack.append([func.__name__,pos0,pos1,writepos,modes])\n",
    "\n",
    "                opcode[writepos] = res\n",
    "                self.increment_pos(4)\n",
    "            elif inst in [3,4]:\n",
    "                pos0 = opcode[pos+1]\n",
    "                if inst == 3:\n",
    "                    try:\n",
    "                        input_val = self.input_buffer.pop(0)\n",
    "                        opcode = save(opcode,pos0,input_val,modes)\n",
    "                    except:\n",
    "                        self.paused = True\n",
    "                        break\n",
    "                elif inst == 4:\n",
    "                    test_res = get(opcode,pos0,modes)\n",
    "                    self.output_buffer.append(test_res)\n",
    "    #                 if test_res:\n",
    "    #                     print(f'DIAGNOSTIC ERROR: {pos}')\n",
    "                    if not suppress_output:\n",
    "                        print(test_res)\n",
    "                self.increment_pos(2)\n",
    "            elif inst in [5,6]:\n",
    "                pos0 = opcode[pos+1]\n",
    "                pos1 = opcode[pos+2]\n",
    "                func = functions[inst]\n",
    "                params = {\n",
    "                    'func':func,\n",
    "                    'opcode':opcode,\n",
    "                    'pos0':pos0,\n",
    "                    'pos1':pos1,\n",
    "                    'modes':modes\n",
    "                }\n",
    "                #addition\n",
    "                res = dispatch(**params)\n",
    "                if res:\n",
    "                    self.set_pos(res)\n",
    "                else:\n",
    "                    self.increment_pos(3)\n",
    "                inst_stack.append([func.__name__,pos0,pos1,None,modes])\n",
    "                \n",
    "        if opcode[self.pos] == 99:\n",
    "            self.finished = True\n",
    "\n",
    "        return opcode, inst, self.output_buffer\n",
    "        \n",
    "\n",
    "def run_amplifiers(instruction,amplifier_sequence):\n",
    "    seq = [int(i) for i in amplifier_sequence.split(',')]\n",
    "    input_signal = 0\n",
    "    for phase_setting in seq:\n",
    "        input_vals = [phase_setting,input_signal]\n",
    "        A = Amplifier(instruction,input_vals)\n",
    "        opcode,inst, run_results = A.run()\n",
    "        input_signal = run_results[0]\n",
    "    return input_signal\n",
    "\n",
    "def run_amplifiers_feedback_loop(instruction,amplifier_sequence):\n",
    "    seq = [int(i) for i in amplifier_sequence.split(',')]\n",
    "    A = Amplifier(instruction,[seq[0],0])\n",
    "    B = Amplifier(instruction,[seq[1]])\n",
    "    C = Amplifier(instruction,[seq[2]])\n",
    "    D = Amplifier(instruction,[seq[3]])\n",
    "    E = Amplifier(instruction,[seq[4]])\n",
    "    \n",
    "    A.set_output(B)\n",
    "    B.set_output(C)\n",
    "    C.set_output(D)\n",
    "    D.set_output(E)\n",
    "    E.set_output(A)\n",
    "    \n",
    "    while not E.finished:\n",
    "        A.run()\n",
    "        B.run()\n",
    "        C.run()\n",
    "        D.run()\n",
    "        E.run()\n",
    "        \n",
    "    answer = E.output_buffer[0]\n",
    "    \n",
    "    return answer, [A,B,C,D,E]\n",
    "\n",
    "def run_all_amplifier_settings(instruction,feedback_loop=False):\n",
    "    max_strength = None\n",
    "    max_setting = None\n",
    "    if feedback_loop:\n",
    "        r = range(5,10)\n",
    "    else:\n",
    "        r = range(5)\n",
    "    for p in itertools.permutations(r,5):\n",
    "        amp_setting = ','.join([str(i) for i in p])\n",
    "        if feedback_loop:\n",
    "            final_strength,_ = run_amplifiers_feedback_loop(instruction,amp_setting)\n",
    "        else:\n",
    "            final_strength = run_amplifiers(instruction,amp_setting)\n",
    "        if max_strength is None or final_strength > max_strength:\n",
    "            max_strength = final_strength\n",
    "            max_setting = amp_setting\n",
    "    return max_strength"
   ]
  },
  {
   "cell_type": "code",
   "execution_count": 66,
   "metadata": {},
   "outputs": [],
   "source": [
    "with open('input7.txt','r') as f:\n",
    "    instructions = [line for line in f]\n",
    "instruction = instructions[0]"
   ]
  },
  {
   "cell_type": "code",
   "execution_count": 85,
   "metadata": {},
   "outputs": [
    {
     "data": {
      "text/plain": [
       "34686"
      ]
     },
     "execution_count": 85,
     "metadata": {},
     "output_type": "execute_result"
    }
   ],
   "source": [
    "run_all_amplifier_settings(instruction,False)"
   ]
  },
  {
   "cell_type": "code",
   "execution_count": 86,
   "metadata": {},
   "outputs": [
    {
     "data": {
      "text/plain": [
       "36384144"
      ]
     },
     "execution_count": 86,
     "metadata": {},
     "output_type": "execute_result"
    }
   ],
   "source": [
    "run_all_amplifier_settings(instruction,True)"
   ]
  },
  {
   "cell_type": "markdown",
   "metadata": {},
   "source": [
    "# Problem 8\n",
    "<a id=\"p8\"/>"
   ]
  },
  {
   "cell_type": "code",
   "execution_count": 90,
   "metadata": {},
   "outputs": [],
   "source": [
    "import numpy as np\n",
    "import math\n",
    "\n",
    "def decode_layers(data,width,height):\n",
    "    dim = (width*height)\n",
    "    num_layers = int(len(data)/dim)\n",
    "    all_layers = []\n",
    "    for layer_pos in range(num_layers):\n",
    "        start = dim*layer_pos\n",
    "        end = dim*(layer_pos+1)\n",
    "        layer = data[start:end]\n",
    "        all_layers.append(layer)\n",
    "    return all_layers\n",
    "\n",
    "def digit_ct(layer,digit):\n",
    "    return len([int(i) for i in layer if int(i)==digit])\n",
    "\n",
    "def check_corruption(data,width,height):\n",
    "    all_layers = decode_layers(data,width,height)\n",
    "    min_zero = None\n",
    "    min_zero_layer = None\n",
    "    for layer in all_layers:\n",
    "        zero_ct = digit_ct(layer,0)\n",
    "        if min_zero is None or zero_ct < min_zero:\n",
    "            min_zero = zero_ct\n",
    "            min_zero_layer = layer\n",
    "    \n",
    "    one_ct = digit_ct(min_zero_layer,1)\n",
    "    two_ct = digit_ct(min_zero_layer,2)\n",
    "    return one_ct*two_ct\n",
    "\n",
    "def decode_image(data,width,height):\n",
    "    all_layers = decode_layers(data,width,height)\n",
    "    all_pixels = np.tile([2],width*height).reshape(height,width)\n",
    "    for layer in all_layers:\n",
    "        for i,val in enumerate(layer):\n",
    "            intval = int(val)\n",
    "            row = math.floor(i/width)\n",
    "            col = i%width\n",
    "            if all_pixels[row,col] == 2 and intval < 2:\n",
    "                all_pixels[row,col] = intval\n",
    "    return all_pixels"
   ]
  },
  {
   "cell_type": "code",
   "execution_count": 45,
   "metadata": {},
   "outputs": [],
   "source": [
    "data = '123456789012'\n",
    "width = 3\n",
    "height = 2\n",
    "layer_size = width*height\n",
    "al = decode_layers(data,width,height)"
   ]
  },
  {
   "cell_type": "code",
   "execution_count": 86,
   "metadata": {},
   "outputs": [],
   "source": [
    "with open('input8.txt','r') as f:\n",
    "    instructions = [line for line in f]\n",
    "data = instructions[0]"
   ]
  },
  {
   "cell_type": "code",
   "execution_count": 87,
   "metadata": {},
   "outputs": [],
   "source": [
    "width = 25\n",
    "height = 6"
   ]
  },
  {
   "cell_type": "code",
   "execution_count": 88,
   "metadata": {},
   "outputs": [
    {
     "data": {
      "text/plain": [
       "2975"
      ]
     },
     "execution_count": 88,
     "metadata": {},
     "output_type": "execute_result"
    }
   ],
   "source": [
    "check_corruption(data,width,height)"
   ]
  },
  {
   "cell_type": "code",
   "execution_count": 92,
   "metadata": {},
   "outputs": [],
   "source": [
    "image = decode_image(data,width,height)"
   ]
  },
  {
   "cell_type": "code",
   "execution_count": 93,
   "metadata": {},
   "outputs": [
    {
     "name": "stdout",
     "output_type": "stream",
     "text": [
      "[[1 1 1 1 0 1 0 0 1 0 1 1 1 0 0 1 0 0 1 0 1 1 1 1 0]\n",
      " [1 0 0 0 0 1 0 0 1 0 1 0 0 1 0 1 0 0 1 0 1 0 0 0 0]\n",
      " [1 1 1 0 0 1 1 1 1 0 1 0 0 1 0 1 0 0 1 0 1 1 1 0 0]\n",
      " [1 0 0 0 0 1 0 0 1 0 1 1 1 0 0 1 0 0 1 0 1 0 0 0 0]\n",
      " [1 0 0 0 0 1 0 0 1 0 1 0 1 0 0 1 0 0 1 0 1 0 0 0 0]\n",
      " [1 1 1 1 0 1 0 0 1 0 1 0 0 1 0 0 1 1 0 0 1 1 1 1 0]]\n"
     ]
    }
   ],
   "source": [
    "print(image)"
   ]
  },
  {
   "cell_type": "markdown",
   "metadata": {},
   "source": [
    "# Problem 9\n",
    "<a id=\"p9\"/>"
   ]
  },
  {
   "cell_type": "code",
   "execution_count": 1,
   "metadata": {},
   "outputs": [],
   "source": [
    "import itertools\n",
    "\n",
    "def deref(opcode,pos,mode,rel_base):\n",
    "    if mode == 1:\n",
    "        a = pos\n",
    "    elif mode == 2:\n",
    "        a = opcode.get(rel_base + pos,0)\n",
    "    else:\n",
    "        a = opcode.get(pos,0)\n",
    "    return a\n",
    "\n",
    "# def deref(opcode,pos0,pos1,modes,rel_base):\n",
    "#     if modes[1] == 1:\n",
    "#         a = pos0\n",
    "#     elif modes[1] == 2:\n",
    "#         a = opcode[rel_base + pos0]\n",
    "#     else:\n",
    "#         a = opcode[pos0]\n",
    "#     if modes[2] == 1:\n",
    "#         b = pos1\n",
    "#     elif modes[2] == 2:\n",
    "#         b = opcode[rel_base + pos1]\n",
    "#     else:\n",
    "#         b = opcode[pos1]\n",
    "#     return a,b\n",
    "\n",
    "def dispatch(func,opcode,pos0,pos1,modes,rel_base):\n",
    "    a = deref(opcode,pos0,modes[1],rel_base)\n",
    "    b = deref(opcode,pos1,modes[2],rel_base)\n",
    "    return func(a,b)\n",
    "\n",
    "def add(a,b):\n",
    "    return a+b\n",
    "\n",
    "def mult(a,b):\n",
    "    return a*b\n",
    "\n",
    "def save(opcode,pos0,input_val,modes,rel_base):\n",
    "    if modes[1] == 2:\n",
    "        opcode[pos0 + rel_base] = input_val\n",
    "    else:\n",
    "        opcode[pos0] = input_val\n",
    "    return opcode\n",
    "\n",
    "def get(opcode,pos0,modes,rel_base):\n",
    "    if modes[1] == 1:\n",
    "        a = pos0\n",
    "    elif modes[1] == 2:\n",
    "        a = opcode[pos0+rel_base]\n",
    "    else:\n",
    "        a = opcode[pos0]\n",
    "    return a\n",
    "\n",
    "def jt(a,b):\n",
    "    if a > 0:\n",
    "        return b\n",
    "    else:\n",
    "        return None\n",
    "\n",
    "def jf(a,b):\n",
    "    if a == 0:\n",
    "        return b\n",
    "    else:\n",
    "        return None\n",
    "\n",
    "def lt(a,b):\n",
    "    return (a<b)*1\n",
    "\n",
    "def eq(a,b):\n",
    "    return (a==b)*1\n",
    "\n",
    "def increl(opcode,pos0,modes,rel_base):\n",
    "    a = deref(opcode,pos0,modes[1],rel_base)\n",
    "    rel_base += a\n",
    "    return rel_base\n",
    "\n",
    "def translate_immediate(immediate_inst):\n",
    "    imi = str(immediate_inst)\n",
    "    inst = int(imi[-2:])\n",
    "    modes = {}\n",
    "    try:\n",
    "        modes[1] = int(imi[-3])\n",
    "    except:\n",
    "        modes[1] = 0\n",
    "    try:\n",
    "        modes[2] = int(imi[-4])\n",
    "    except:\n",
    "        modes[2] = 0\n",
    "    try:\n",
    "        modes[3] = int(imi[-5])\n",
    "    except:\n",
    "        modes[3] = 0\n",
    "    return inst,modes\n",
    "    \n",
    "\n",
    "def parse(code,input_vals = [1],pos=0,suppress_output=True):\n",
    "    if type(code) == str:\n",
    "        code = {int(i):int(val) for i,val in enumerate(code.split(','))}\n",
    "    opcode = code.copy()\n",
    "    pos = 0\n",
    "    rel_base = 0\n",
    "    inst_stack = []\n",
    "    test_results = []\n",
    "    \n",
    "    while opcode[pos] != 99:\n",
    "\n",
    "        immediate = False\n",
    "        inst = opcode[pos]\n",
    "        \n",
    "        if inst not in [1,2,3,4,5,6,7,8,9]:\n",
    "            #interpret as immediate mode\n",
    "            inst, modes = translate_immediate(inst)\n",
    "        else:\n",
    "            modes = {i:0 for i in range(1,4)}\n",
    "        \n",
    "        functions = {\n",
    "            1:add,\n",
    "            2:mult,\n",
    "            5:jt,\n",
    "            6:jf,\n",
    "            7:lt,\n",
    "            8:eq,\n",
    "            9:increl,\n",
    "        }\n",
    "         \n",
    "        if inst in [1,2,7,8]:\n",
    "            pos0 = opcode[pos+1]\n",
    "            pos1 = opcode[pos+2]\n",
    "            writepos = opcode[pos+3]\n",
    "            func = functions[inst]\n",
    "            params = {\n",
    "                'func':func,\n",
    "                'opcode':opcode,\n",
    "                'pos0':pos0,\n",
    "                'pos1':pos1,\n",
    "                'modes':modes,\n",
    "                'rel_base':rel_base,\n",
    "            }\n",
    "            #addition\n",
    "            res = dispatch(**params)\n",
    "            inst_stack.append([func.__name__,pos0,pos1,writepos,modes])\n",
    "            \n",
    "            try:\n",
    "                if modes[3]==2:\n",
    "                    writepos += rel_base\n",
    "            except:\n",
    "                pass\n",
    "                \n",
    "            opcode[writepos] = res\n",
    "            pos += 4\n",
    "        elif inst in [3,4,9]:\n",
    "            pos0 = opcode[pos+1]\n",
    "            if inst == 3:\n",
    "                input_val = input_vals.pop(0)\n",
    "                opcode = save(opcode,pos0,input_val,modes,rel_base)\n",
    "            elif inst == 4:\n",
    "                test_res = get(opcode,pos0,modes,rel_base)\n",
    "                test_results.append(test_res)\n",
    "#                 if test_res:\n",
    "#                     print(f'DIAGNOSTIC ERROR: {pos}')\n",
    "                if not suppress_output:\n",
    "                    print(test_res)\n",
    "            elif inst == 9:\n",
    "                rel_base = increl(opcode,pos0,modes,rel_base)\n",
    "            pos += 2\n",
    "        elif inst in [5,6]:\n",
    "            pos0 = opcode[pos+1]\n",
    "            pos1 = opcode[pos+2]\n",
    "            func = functions[inst]\n",
    "            params = {\n",
    "                'func':func,\n",
    "                'opcode':opcode,\n",
    "                'pos0':pos0,\n",
    "                'pos1':pos1,\n",
    "                'modes':modes,\n",
    "                'rel_base':rel_base,\n",
    "            }\n",
    "            #addition\n",
    "            res = dispatch(**params)\n",
    "            if res:\n",
    "                pos = res\n",
    "            else:\n",
    "                pos += 3\n",
    "            inst_stack.append([func.__name__,pos0,pos1,None,modes])\n",
    "            \n",
    "    return opcode, inst, test_results"
   ]
  },
  {
   "cell_type": "code",
   "execution_count": 47,
   "metadata": {},
   "outputs": [
    {
     "name": "stdout",
     "output_type": "stream",
     "text": [
      "1125899906842624\n"
     ]
    }
   ],
   "source": [
    "o, i, t = parse('104,1125899906842624,99',[0],suppress_output=False)"
   ]
  },
  {
   "cell_type": "code",
   "execution_count": 48,
   "metadata": {},
   "outputs": [],
   "source": [
    "with open('input9.txt','r') as f:\n",
    "    instructions = [line for line in f]\n",
    "instruction = instructions[0]"
   ]
  },
  {
   "cell_type": "code",
   "execution_count": 58,
   "metadata": {},
   "outputs": [],
   "source": [
    "o, i, t = parse(instruction,[1])"
   ]
  },
  {
   "cell_type": "code",
   "execution_count": 59,
   "metadata": {},
   "outputs": [
    {
     "data": {
      "text/plain": [
       "[3335138414]"
      ]
     },
     "execution_count": 59,
     "metadata": {},
     "output_type": "execute_result"
    }
   ],
   "source": [
    "t"
   ]
  },
  {
   "cell_type": "code",
   "execution_count": 60,
   "metadata": {},
   "outputs": [],
   "source": [
    "o, i, t = parse(instruction,[2])"
   ]
  },
  {
   "cell_type": "code",
   "execution_count": 61,
   "metadata": {},
   "outputs": [
    {
     "data": {
      "text/plain": [
       "[49122]"
      ]
     },
     "execution_count": 61,
     "metadata": {},
     "output_type": "execute_result"
    }
   ],
   "source": [
    "t"
   ]
  },
  {
   "cell_type": "markdown",
   "metadata": {},
   "source": [
    "# Problem 10\n",
    "<a id=\"p10\"/>"
   ]
  },
  {
   "cell_type": "code",
   "execution_count": 10,
   "metadata": {},
   "outputs": [],
   "source": [
    "import numpy as np\n",
    "import operator\n",
    "from scipy.spatial import distance\n",
    "\n",
    "def read_input_map(input_map):\n",
    "    rows = len(input_map.split('\\n'))\n",
    "    input_map = ''.join([line.strip() for line in input_map])\n",
    "    cols = int(len(input_map)/rows)\n",
    "    asteroids = np.zeros((rows,cols))\n",
    "    all_asteroids = []\n",
    "    for i in range(rows):\n",
    "        for j in range(cols):\n",
    "            char = input_map[rows*i + j]\n",
    "            #i is y val, j is x val\n",
    "            if char == '#':\n",
    "                asteroids[i,j] = 1\n",
    "                all_asteroids.append(np.array([i,j]))\n",
    "    return asteroids, all_asteroids\n",
    "\n",
    "def calculate_line(a1,a2):\n",
    "    x1 = a1[1]\n",
    "    x2 = a2[1]\n",
    "    y1 = a1[0]\n",
    "    y2 = a2[0]\n",
    "    if x2!=x1:\n",
    "        linetype = 'normal'\n",
    "        m = (y2-y1)/(x2-x1)\n",
    "        b = (x2*y1-x1*y2)/(x2-x1)\n",
    "    else:\n",
    "        linetype = 'vertical'\n",
    "        m = None\n",
    "        b = x1\n",
    "    return linetype, m,b"
   ]
  },
  {
   "cell_type": "code",
   "execution_count": 72,
   "metadata": {},
   "outputs": [],
   "source": [
    "def calculate_visibility(a,test_a):\n",
    "    angle_map = {}\n",
    "    for asteroid in a:\n",
    "        if np.any(asteroid!=test_a):\n",
    "            t = asteroid - test_a\n",
    "            angle = np.round(np.arctan2(t[0],t[1]),10)\n",
    "            arr = angle_map.get(angle,[])\n",
    "            arr.append(asteroid)\n",
    "            angle_map[angle] = arr\n",
    "\n",
    "    visible_ct = 0\n",
    "    for k,v in angle_map.items():\n",
    "        if len(v) == 1:\n",
    "            visible_ct += 1\n",
    "        else:\n",
    "            #Go through and figure out which is the nearest\n",
    "            v = sorted(v,key=lambda x:distance.euclidean(test_a,x))\n",
    "            min_vis = v[0]\n",
    "            visible_ct += 1\n",
    "    return visible_ct, angle_map\n",
    "\n",
    "def calculate_all_visibility(a):\n",
    "    all_cts = {}\n",
    "    for test_a in a:\n",
    "        visible_ct,_ = calculate_visibility(a,test_a)\n",
    "        all_cts[str(test_a)] = visible_ct\n",
    "    return all_cts\n",
    "\n",
    "def calculate_max_visibility(a):\n",
    "    all_cts = calculate_all_visibility(a)\n",
    "    max_asteroid = max(all_cts.items(), key=operator.itemgetter(1))[0]\n",
    "    return all_cts[max_asteroid], max_asteroid\n",
    "\n",
    "def adjust_angle(angle):\n",
    "    if angle < -np.round(np.pi/2,10):\n",
    "        angle = angle + np.pi * 2\n",
    "    return angle\n",
    "\n",
    "def fire_laser(angle_map,station):\n",
    "    #adjust by pi/2\n",
    "#     am = {np.round(k+np.pi/2,10):[i-station for i in v] for k,v in angle_map.items()}\n",
    "    am = {}\n",
    "    total_ct = 0\n",
    "    for k,v in angle_map.items():\n",
    "        total_ct += len(v)\n",
    "        am[adjust_angle(k)] = sorted([(i,distance.euclidean(i,station)) for i in v],key=lambda x: x[1])\n",
    "#     am = {adjust_angle(k):[i-station for i in v] for k,v in angle_map.items()}\n",
    "    \n",
    "    angle_rotation = sorted(am.keys())\n",
    "#     return angle_rotation, am\n",
    "    angle_pos = 0\n",
    "    ctr = 0\n",
    "    while ctr < total_ct:\n",
    "        angle = angle_rotation[angle_pos]\n",
    "        asteroids = am[angle]\n",
    "        if len(asteroids) > 0:\n",
    "            destroyed = asteroids.pop(0)\n",
    "#             print(destroyed[0])\n",
    "            ctr += 1\n",
    "            if ctr == 200:\n",
    "                ast = destroyed[0]\n",
    "                x = ast[1]\n",
    "                y = ast[0]\n",
    "                answer = x*100+y\n",
    "                print(f'X: {x} Y: {y} Answer: {answer}')\n",
    "            am[angle] = asteroids\n",
    "        angle_pos += 1\n",
    "        angle_pos %= len(angle_rotation)\n",
    "    return am"
   ]
  },
  {
   "cell_type": "code",
   "execution_count": 3,
   "metadata": {},
   "outputs": [
    {
     "data": {
      "text/plain": [
       "(8, '[4 3]')"
      ]
     },
     "execution_count": 3,
     "metadata": {},
     "output_type": "execute_result"
    }
   ],
   "source": [
    "input_map = \"\"\".#..#\n",
    ".....\n",
    "#####\n",
    "....#\n",
    "...##\"\"\"\n",
    "a_map, a = read_input_map(input_map)\n",
    "calculate_max_visibility(a)"
   ]
  },
  {
   "cell_type": "code",
   "execution_count": 41,
   "metadata": {},
   "outputs": [
    {
     "data": {
      "text/plain": [
       "(210, '[13 11]')"
      ]
     },
     "execution_count": 41,
     "metadata": {},
     "output_type": "execute_result"
    }
   ],
   "source": [
    "input_map = \"\"\".#..##.###...#######\n",
    "##.############..##.\n",
    ".#.######.########.#\n",
    ".###.#######.####.#.\n",
    "#####.##.#.##.###.##\n",
    "..#####..#.#########\n",
    "####################\n",
    "#.####....###.#.#.##\n",
    "##.#################\n",
    "#####.##.###..####..\n",
    "..######..##.#######\n",
    "####.##.####...##..#\n",
    ".#####..#.######.###\n",
    "##...#.##########...\n",
    "#.##########.#######\n",
    ".####.#.###.###.#.##\n",
    "....##.##.###..#####\n",
    ".#.#.###########.###\n",
    "#.#.#.#####.####.###\n",
    "###.##.####.##.#..##\"\"\"\n",
    "a_map, a = read_input_map(input_map)\n",
    "calculate_max_visibility(a)"
   ]
  },
  {
   "cell_type": "code",
   "execution_count": 73,
   "metadata": {},
   "outputs": [
    {
     "name": "stdout",
     "output_type": "stream",
     "text": [
      "X: 8 Y: 2 Answer: 802\n"
     ]
    }
   ],
   "source": [
    "station = [13,11]\n",
    "vis,angle_map = calculate_visibility(a,station)\n",
    "am = fire_laser(angle_map, station)"
   ]
  },
  {
   "cell_type": "code",
   "execution_count": 74,
   "metadata": {},
   "outputs": [],
   "source": [
    "with open('input10.txt','r') as f:\n",
    "    input_map = f.read()"
   ]
  },
  {
   "cell_type": "code",
   "execution_count": 75,
   "metadata": {},
   "outputs": [],
   "source": [
    "a_map, a = read_input_map(input_map)\n",
    "answer,station = calculate_max_visibility(a)"
   ]
  },
  {
   "cell_type": "code",
   "execution_count": 77,
   "metadata": {},
   "outputs": [
    {
     "name": "stdout",
     "output_type": "stream",
     "text": [
      "X: 5 Y: 2 Answer: 502\n"
     ]
    }
   ],
   "source": [
    "station = [16,8]\n",
    "vis,angle_map = calculate_visibility(a,station)\n",
    "am = fire_laser(angle_map, station)"
   ]
  },
  {
   "cell_type": "markdown",
   "metadata": {},
   "source": [
    "# Problem 11\n",
    "<a id=\"p11\"/>"
   ]
  },
  {
   "cell_type": "code",
   "execution_count": 5,
   "metadata": {},
   "outputs": [],
   "source": [
    "import itertools\n",
    "import numpy as np\n",
    "\n",
    "class Intcode():\n",
    "    def __init__(self,instruction,input_vals = [1],pos=0,suppress_output=True):\n",
    "        if type(instruction) == str:\n",
    "            instruction = {int(i):int(val) for i,val in enumerate(instruction.split(','))}\n",
    "        self.opcode = instruction.copy()\n",
    "        self.input_vals = input_vals\n",
    "        self.pos = pos\n",
    "        self.suppress_output = suppress_output\n",
    "        self.output = []\n",
    "        self.rel_base = 0\n",
    "        self.inst_stack = []\n",
    "        \n",
    "    def add(a,b):\n",
    "        return a+b\n",
    "\n",
    "    def mult(a,b):\n",
    "        return a*b\n",
    "    \n",
    "    def jt(a,b):\n",
    "        if a > 0:\n",
    "            return b\n",
    "        else:\n",
    "            return None\n",
    "\n",
    "    def jf(a,b):\n",
    "        if a == 0:\n",
    "            return b\n",
    "        else:\n",
    "            return None\n",
    "\n",
    "    def lt(a,b):\n",
    "        return (a<b)*1\n",
    "\n",
    "    def eq(a,b):\n",
    "        return (a==b)*1\n",
    "    \n",
    "    def deref(self,pos,mode,rel_base):\n",
    "        if mode == 1:\n",
    "            a = pos\n",
    "        elif mode == 2:\n",
    "            a = self.opcode.get(rel_base + pos,0)\n",
    "        else:\n",
    "            a = self.opcode.get(pos,0)\n",
    "        return a\n",
    "\n",
    "    def dispatch(self,func,pos0,pos1,modes,rel_base):\n",
    "        a = self.deref(pos0,modes[1],rel_base)\n",
    "        b = self.deref(pos1,modes[2],rel_base)\n",
    "        return func(a,b)\n",
    "\n",
    "    def save(self,pos0,input_val,modes,rel_base):\n",
    "        if modes[1] == 2:\n",
    "            self.opcode[pos0 + rel_base] = input_val\n",
    "        else:\n",
    "            self.opcode[pos0] = input_val\n",
    "\n",
    "    def get(self,pos0,modes,rel_base):\n",
    "        if modes[1] == 1:\n",
    "            a = pos0\n",
    "        elif modes[1] == 2:\n",
    "            a = self.opcode[pos0+rel_base]\n",
    "        else:\n",
    "            a = self.opcode[pos0]\n",
    "        return a\n",
    "\n",
    "    def increl(self,pos0,modes,rel_base):\n",
    "        a = self.deref(pos0,modes[1],rel_base)\n",
    "        rel_base += a\n",
    "        return rel_base\n",
    "\n",
    "    def translate_immediate(immediate_inst):\n",
    "        imi = str(immediate_inst)\n",
    "        inst = int(imi[-2:])\n",
    "        modes = {}\n",
    "        try:\n",
    "            modes[1] = int(imi[-3])\n",
    "        except:\n",
    "            modes[1] = 0\n",
    "        try:\n",
    "            modes[2] = int(imi[-4])\n",
    "        except:\n",
    "            modes[2] = 0\n",
    "        try:\n",
    "            modes[3] = int(imi[-5])\n",
    "        except:\n",
    "            modes[3] = 0\n",
    "        return inst,modes\n",
    "    \n",
    "    def is_finished(self):\n",
    "        return self.opcode[self.pos] == 99\n",
    "    \n",
    "    def run(self):\n",
    "        pos = self.pos\n",
    "        rel_base = 0\n",
    "        while not self.is_finished():\n",
    "            self.parse(self.pos)\n",
    "        return self.output\n",
    "    \n",
    "    def get_input(self):\n",
    "        return self.input_vals.pop(0)\n",
    "    \n",
    "    def set_output(self,output):\n",
    "        self.output.append(output)\n",
    "        if not self.suppress_output:\n",
    "            print(self.output)\n",
    "\n",
    "    def parse(self,pos):\n",
    "        immediate = False\n",
    "        inst = self.opcode[pos]\n",
    "\n",
    "        if inst not in [1,2,3,4,5,6,7,8,9]:\n",
    "            #interpret as immediate mode\n",
    "            inst, modes = Intcode.translate_immediate(inst)\n",
    "        else:\n",
    "            modes = {i:0 for i in range(1,4)}\n",
    "\n",
    "        functions = {\n",
    "            1:Intcode.add,\n",
    "            2:Intcode.mult,\n",
    "            5:Intcode.jt,\n",
    "            6:Intcode.jf,\n",
    "            7:Intcode.lt,\n",
    "            8:Intcode.eq,\n",
    "            9:self.increl,\n",
    "        }\n",
    "\n",
    "        if inst in [1,2,7,8]:\n",
    "            pos0 = self.opcode[pos+1]\n",
    "            pos1 = self.opcode[pos+2]\n",
    "            writepos = self.opcode[pos+3]\n",
    "            func = functions[inst]\n",
    "            params = {\n",
    "                'func':func,\n",
    "                'pos0':pos0,\n",
    "                'pos1':pos1,\n",
    "                'modes':modes,\n",
    "                'rel_base':self.rel_base,\n",
    "            }\n",
    "            #addition\n",
    "            res = self.dispatch(**params)\n",
    "            self.inst_stack.append([func.__name__,pos0,pos1,writepos,modes])\n",
    "\n",
    "            try:\n",
    "                if modes[3]==2:\n",
    "                    writepos += self.rel_base\n",
    "            except:\n",
    "                pass\n",
    "\n",
    "            self.opcode[writepos] = res\n",
    "            pos += 4\n",
    "        elif inst in [3,4,9]:\n",
    "            pos0 = self.opcode[pos+1]\n",
    "            if inst == 3:\n",
    "                input_val = self.get_input()\n",
    "                self.save(pos0,input_val,modes,self.rel_base)\n",
    "            elif inst == 4:\n",
    "                output = self.get(pos0,modes,self.rel_base)\n",
    "                self.set_output(output)\n",
    "#                 if test_res:\n",
    "#                     print(f'DIAGNOSTIC ERROR: {pos}')\n",
    "\n",
    "            elif inst == 9:\n",
    "                self.rel_base = self.increl(pos0,modes,self.rel_base)\n",
    "            pos += 2\n",
    "        elif inst in [5,6]:\n",
    "            pos0 = self.opcode[pos+1]\n",
    "            pos1 = self.opcode[pos+2]\n",
    "            func = functions[inst]\n",
    "            params = {\n",
    "                'func':func,\n",
    "                'pos0':pos0,\n",
    "                'pos1':pos1,\n",
    "                'modes':modes,\n",
    "                'rel_base':self.rel_base,\n",
    "            }\n",
    "            #addition\n",
    "            res = self.dispatch(**params)\n",
    "            if res:\n",
    "                pos = res\n",
    "            else:\n",
    "                pos += 3\n",
    "            self.inst_stack.append([func.__name__,pos0,pos1,None,modes])\n",
    "\n",
    "        self.pos = pos\n",
    "\n",
    "\n",
    "class Robot(Intcode):\n",
    "    moves = [[0,1],[-1,0],[0,-1],[1,0]]\n",
    "    def __init__(self,intcode,start_white=False):\n",
    "        super().__init__(instruction=intcode,input_vals=[])\n",
    "        self.robot_xy = np.array([0,0])\n",
    "        self.direction = 0 #up\n",
    "        self.panels = {}\n",
    "        self.output_state = 0\n",
    "        self.painted_panels = set()\n",
    "        if start_white:\n",
    "            self.set_output(1)\n",
    "            self.output_state = 0\n",
    "        \n",
    "    def get_xy(self):\n",
    "        return tuple(self.robot_xy)\n",
    "        \n",
    "    def get_input(self):\n",
    "        xy = self.get_xy()\n",
    "        return self.panels.get(xy,0)\n",
    "    \n",
    "    def move_robot(self):\n",
    "        xy = self.robot_xy\n",
    "        move = self.moves[self.direction]\n",
    "        self.robot_xy = xy + move\n",
    "    \n",
    "    def set_output(self,output):\n",
    "        if self.output_state == 0:\n",
    "            #paint mode\n",
    "            xy = self.get_xy()\n",
    "            if output == 0:\n",
    "                self.panels[xy] = 0\n",
    "            else:\n",
    "                self.panels[xy] = 1\n",
    "            self.painted_panels.add(xy)\n",
    "        elif self.output_state == 1:\n",
    "            #direction mode\n",
    "            if output == 0:\n",
    "                self.direction += 1\n",
    "            elif output == 1:\n",
    "                self.direction -= 1\n",
    "            self.direction %= 4\n",
    "            self.move_robot()\n",
    "        self.output_state += 1\n",
    "        self.output_state %= 2\n",
    "    \n",
    "    def run(self):\n",
    "        pos = self.pos\n",
    "        rel_base = 0\n",
    "        while not self.is_finished():\n",
    "            self.parse(self.pos)\n",
    "        return len(self.painted_panels)\n",
    "    \n",
    "    def print_picture(self):\n",
    "        p = np.array([np.array(xy) for xy,v  in self.panels.items() if v == 1])\n",
    "        p[:,1] = p[:,1] + abs(min(p[:,1]))\n",
    "        z = np.zeros((6,40))\n",
    "        for xy in p:\n",
    "            row = xy[1]\n",
    "            col = xy[0]\n",
    "            z[row][col] = 1\n",
    "        z = np.flip(z,axis=0)\n",
    "        return z"
   ]
  },
  {
   "cell_type": "code",
   "execution_count": 75,
   "metadata": {},
   "outputs": [],
   "source": [
    "instruction = '1102,34915192,34915192,7,4,7,99,0'\n",
    "i = Intcode(instruction)"
   ]
  },
  {
   "cell_type": "code",
   "execution_count": 81,
   "metadata": {},
   "outputs": [],
   "source": [
    "with open('input11.txt','r') as f:\n",
    "    instructions = [line for line in f]\n",
    "instruction = instructions[0]"
   ]
  },
  {
   "cell_type": "code",
   "execution_count": 171,
   "metadata": {},
   "outputs": [
    {
     "data": {
      "text/plain": [
       "2322"
      ]
     },
     "execution_count": 171,
     "metadata": {},
     "output_type": "execute_result"
    }
   ],
   "source": [
    "r = Robot(instruction,start_white=False)\n",
    "r.run()"
   ]
  },
  {
   "cell_type": "code",
   "execution_count": 218,
   "metadata": {},
   "outputs": [
    {
     "data": {
      "text/plain": [
       "249"
      ]
     },
     "execution_count": 218,
     "metadata": {},
     "output_type": "execute_result"
    }
   ],
   "source": [
    "r = Robot(instruction,start_white=True)\n",
    "r.run()"
   ]
  },
  {
   "cell_type": "code",
   "execution_count": 219,
   "metadata": {},
   "outputs": [],
   "source": [
    "p = r.print_picture()"
   ]
  },
  {
   "cell_type": "code",
   "execution_count": 220,
   "metadata": {},
   "outputs": [
    {
     "name": "stdout",
     "output_type": "stream",
     "text": [
      "      X X   X     X     X X     X X X     X X X       X X       X X     X     X \n",
      "        X   X     X   X     X   X     X   X     X   X     X   X     X   X     X \n",
      "        X   X X X X   X     X   X     X   X X X     X         X         X     X \n",
      "        X   X     X   X X X X   X X X     X     X   X   X X   X         X     X \n",
      "  X     X   X     X   X     X   X   X     X     X   X     X   X     X   X     X \n",
      "    X X     X     X   X     X   X     X   X X X       X X X     X X       X X   \n"
     ]
    }
   ],
   "source": [
    "for row in p:\n",
    "    for cell in row:\n",
    "        if cell == 1:\n",
    "            print('X ',end='')\n",
    "        else:\n",
    "            print('  ',end='')\n",
    "    print()"
   ]
  },
  {
   "cell_type": "markdown",
   "metadata": {},
   "source": [
    "# Problem 12\n",
    "<a id=\"p12\"/>"
   ]
  },
  {
   "cell_type": "code",
   "execution_count": 167,
   "metadata": {},
   "outputs": [],
   "source": [
    "import numpy as np\n",
    "\n",
    "class Planet():\n",
    "    def __init__(self,start_pos):\n",
    "        self.position = np.array(start_pos)\n",
    "        self.velocity = np.array([0,0,0])\n",
    "        self.starting_state = np.append(np.array(start_pos),np.array([0,0,0]))\n",
    "\n",
    "    def __repr__(self):\n",
    "        pos_x, pos_y, pos_z = self.position\n",
    "        vel_x, vel_y, vel_z = self.velocity\n",
    "        return f'pos=<x= {pos_x}, y= {pos_y}, z= {pos_z}>, vel=<x= {vel_x}, y= {vel_y}, z= {vel_z}>'\n",
    "    \n",
    "    def save_position(self):\n",
    "        pos_state = tuple(np.append(self.position,self.velocity))\n",
    "        self.prior_states.add(pos_state)\n",
    "        \n",
    "    def update_velocity(self,component,amount):\n",
    "        v = self.velocity\n",
    "        v[component] += amount\n",
    "        self.velocity = v\n",
    "        \n",
    "    def update_position(self):\n",
    "        pos = self.position\n",
    "        pos += self.velocity\n",
    "        self.position = pos\n",
    "        \n",
    "    def check_state(self,comp=None):\n",
    "        if comp:\n",
    "            p,v = self.position[comp], self.velocity[comp]\n",
    "            sp, sv = self.starting_state[comp], self.starting_state[comp+3]\n",
    "            check = (p==sp and v==sv)\n",
    "        else:\n",
    "            pos_state = np.append(self.position,self.velocity)\n",
    "            check = np.all(pos_state==self.starting_state)\n",
    "        return check\n",
    "        \n",
    "    def calculate_energy(self):\n",
    "        potential = np.sum(np.abs(self.position))\n",
    "        kinetic = np.sum(np.abs(self.velocity))\n",
    "        return potential * kinetic\n",
    "\n",
    "def parse_planet_list(planet_list):\n",
    "    new_planet_list = []\n",
    "    for p in planet_list:\n",
    "        p = p[1:-1] #remove carets\n",
    "        l = [s.strip() for s in p.split(',')]\n",
    "        vals = [int(s[2:]) for s in l]\n",
    "        new_planet_list.append(Planet(vals))\n",
    "    return new_planet_list\n",
    "\n",
    "def move_planets(planet_list):\n",
    "    for comp in range(3):\n",
    "        #0 is x, 1 is y, 2 is z\n",
    "        for p in planet_list:\n",
    "            vel_diff = 0\n",
    "            for other_p in planet_list:\n",
    "                pos_comp = other_p.position[comp] - p.position[comp]\n",
    "                vel_diff += np.sign(pos_comp)\n",
    "            p.update_velocity(comp,vel_diff)\n",
    "    \n",
    "    total_energy = 0\n",
    "    match_prior = []\n",
    "    for p in planet_list:\n",
    "        p.update_position()\n",
    "        total_energy += p.calculate_energy()\n",
    "        match_prior.append(p.check_state())\n",
    "    return total_energy, match_prior\n",
    "                    \n",
    "\n",
    "def run_program(raw_planet_list,num_steps):\n",
    "    planet_list = parse_planet_list(raw_planet_list)\n",
    "    for i in range(num_steps):\n",
    "        e,m = move_planets(planet_list)\n",
    "#         e = move_planets(planet_list)\n",
    "        if np.any(m):\n",
    "            for j,val in enumerate(m):\n",
    "                if val:\n",
    "                    print(f'Planet {j} repeated after {i} steps')\n",
    "    \n",
    "    print(f'Energy after {num_steps} steps: {e}')\n",
    "    return planet_list\n",
    "\n",
    "def check_cycle(raw_planet_list,comp):\n",
    "    planet_list = parse_planet_list(raw_planet_list)\n",
    "    match = False\n",
    "    ctr = 0\n",
    "    while not match:\n",
    "        for p in planet_list:\n",
    "            vel_diff = 0\n",
    "            for other_p in planet_list:\n",
    "                pos_comp = other_p.position[comp] - p.position[comp]\n",
    "                vel_diff += np.sign(pos_comp)\n",
    "            p.update_velocity(comp,vel_diff)\n",
    "        for p in planet_list:\n",
    "            p.update_position()\n",
    "\n",
    "        match = np.all([p.check_state(comp) for p in planet_list])\n",
    "        ctr += 1\n",
    "    return ctr\n",
    "\n",
    "def gcd(a,b):\n",
    "    \"\"\"Compute the greatest common divisor of a and b\"\"\"\n",
    "    while b > 0:\n",
    "        a, b = b, a % b\n",
    "    return a\n",
    "    \n",
    "def lcm(a, b):\n",
    "    \"\"\"Compute the lowest common multiple of a and b\"\"\"\n",
    "    return a * b / gcd(a, b)\n",
    "\n",
    "def simulate_universe(raw_planet_list):\n",
    "    cycles = []\n",
    "    for c in range(3):\n",
    "        ctr = check_cycle(raw_planet_list,c)\n",
    "        cycles.append(ctr)\n",
    "        \n",
    "    return int(lcm(lcm(cycles[0],cycles[1]),cycles[2]))"
   ]
  },
  {
   "cell_type": "code",
   "execution_count": 168,
   "metadata": {},
   "outputs": [
    {
     "data": {
      "text/plain": [
       "2772"
      ]
     },
     "execution_count": 168,
     "metadata": {},
     "output_type": "execute_result"
    }
   ],
   "source": [
    "planets = [\"<x=-1, y=0, z=2>\",\n",
    "    \"<x=2, y=-10, z=-7>\",\n",
    "    \"<x=4, y=-8, z=8>\",\n",
    "    \"<x=3, y=5, z=-1>\"]\n",
    "# p = run_program(planets,2772)\n",
    "simulate_universe(planets)"
   ]
  },
  {
   "cell_type": "code",
   "execution_count": 169,
   "metadata": {},
   "outputs": [
    {
     "data": {
      "text/plain": [
       "4686774924"
      ]
     },
     "execution_count": 169,
     "metadata": {},
     "output_type": "execute_result"
    }
   ],
   "source": [
    "planets = [\"<x=-8, y=-10, z=0>\",\n",
    "    \"<x=5, y=5, z=10>\",\n",
    "    \"<x=2, y=-7, z=3>\",\n",
    "    \"<x=9, y=-8, z=-3>\",]\n",
    "# p = run_program(planets,100)\n",
    "simulate_universe(planets)"
   ]
  },
  {
   "cell_type": "code",
   "execution_count": 170,
   "metadata": {},
   "outputs": [
    {
     "data": {
      "text/plain": [
       "478373365921244"
      ]
     },
     "execution_count": 170,
     "metadata": {},
     "output_type": "execute_result"
    }
   ],
   "source": [
    "planets = [\n",
    "    \"<x=10, y=15, z=7>\",\n",
    "    \"<x=15, y=10, z=0>\",\n",
    "    \"<x=20, y=12, z=3>\",\n",
    "    \"<x=0, y=-3, z=13>\",\n",
    "]\n",
    "# p = run_program(planets,100000)\n",
    "simulate_universe(planets)"
   ]
  },
  {
   "cell_type": "markdown",
   "metadata": {},
   "source": [
    "# Problem 13\n",
    "<a id=\"p13\"/>"
   ]
  },
  {
   "cell_type": "code",
   "execution_count": 265,
   "metadata": {},
   "outputs": [],
   "source": [
    "import time\n",
    "from IPython.display import clear_output\n",
    "\n",
    "class Arcade(Intcode):\n",
    "    tiles = {0:' ',\n",
    "             1:'W',\n",
    "             2:'X',\n",
    "             3:'-',\n",
    "             4:'*',\n",
    "            }\n",
    "    \n",
    "    def __init__(self,instruction,insert_coins=False):\n",
    "        super().__init__(instruction=instruction)\n",
    "        if insert_coins:\n",
    "            self.opcode[0] = 2\n",
    "        self.ball_x = 0\n",
    "        self.paddle_x = 0\n",
    "        \n",
    "    def draw_screen(self):\n",
    "        clear_output(True)\n",
    "        self.max_x = max([self.output[i] for i in range(0,len(self.output),3)])+1\n",
    "        self.max_y = max([self.output[i] for i in range(1,len(self.output),3)])+1\n",
    "        \n",
    "        pos = 0\n",
    "        out = [[' ' for i in range(self.max_x)] for j in range(self.max_y)]\n",
    "        while pos < len(self.output):\n",
    "            x = self.output[pos]\n",
    "            y = self.output[pos+1]\n",
    "            tile_val = self.output[pos+2]\n",
    "            if x==-1 and y==0:\n",
    "                self.set_score(tile_val)\n",
    "            else:\n",
    "                if tile_val == 3:\n",
    "                    self.set_paddle_x(x)\n",
    "                elif tile_val == 4:\n",
    "                    self.set_ball_x(x)\n",
    "                tile = Arcade.tiles[tile_val]\n",
    "                out[y][x] = tile\n",
    "            pos += 3\n",
    "            \n",
    "        block_ctr = sum([len([i for i in l if i == 'X']) for l in out])\n",
    "        self.block_ctr = block_ctr\n",
    "#         print(f'Part 1 Answer: {block_ctr}')\n",
    "        \n",
    "        print('\\n'.join([''.join(o) for o in out]))\n",
    "        print(f'Score: {self.score}')\n",
    "\n",
    "        \n",
    "    def set_ball_x(self,x):\n",
    "        self.ball_x = x\n",
    "        \n",
    "    def set_paddle_x(self,x):\n",
    "        self.paddle_x = x\n",
    "        \n",
    "    def set_score(self,val):\n",
    "        self.score = val\n",
    "        \n",
    "    def get_input(self):\n",
    "        self.draw_screen()\n",
    "            \n",
    "#         time.sleep(0.0500)\n",
    "        if self.ball_x < self.paddle_x:\n",
    "            #ball to left of paddle, move paddle left\n",
    "            return -1\n",
    "        elif self.ball_x > self.paddle_x:\n",
    "            #ball to right of paddle, move paddle right\n",
    "            return 1\n",
    "        else:\n",
    "            #do nothing\n",
    "            return 0\n",
    "        \n",
    "    def run(self):\n",
    "        pos = self.pos\n",
    "        rel_base = 0\n",
    "        while not self.is_finished():\n",
    "            self.parse(self.pos)\n",
    "        self.draw_screen()\n",
    "        "
   ]
  },
  {
   "cell_type": "code",
   "execution_count": 266,
   "metadata": {},
   "outputs": [
    {
     "name": "stdout",
     "output_type": "stream",
     "text": [
      "WWWWWWWWWWWWWWWWWWWWWWWWWWWWWWWWWWWWWWWWWWWW\n",
      "W                                          W\n",
      "W                                          W\n",
      "W                                          W\n",
      "W  *                                       W\n",
      "W                                          W\n",
      "W                                          W\n",
      "W                                          W\n",
      "W                                          W\n",
      "W                                          W\n",
      "W                                          W\n",
      "W                                          W\n",
      "W                                          W\n",
      "W                                          W\n",
      "W                                          W\n",
      "W                                          W\n",
      "W                                          W\n",
      "W                                          W\n",
      "W                                          W\n",
      "W                                          W\n",
      "W                                          W\n",
      "W                                          W\n",
      "W  -                                       W\n",
      "W                                          W\n",
      "Score: 18509\n"
     ]
    }
   ],
   "source": [
    "with open('input13.txt','r') as f:\n",
    "    instructions = [line for line in f]\n",
    "instruction = instructions[0]\n",
    "i = Arcade(instruction,insert_coins=True)\n",
    "i.run()"
   ]
  },
  {
   "cell_type": "markdown",
   "metadata": {},
   "source": [
    "# Problem 14\n",
    "<a id=\"p14\"/>"
   ]
  },
  {
   "cell_type": "code",
   "execution_count": 235,
   "metadata": {},
   "outputs": [],
   "source": [
    "import numpy as np\n",
    "import networkx as nx\n",
    "import re\n",
    "import math\n",
    "\n",
    "def get_chem_and_amt(chem_raw):\n",
    "    chem = chem_raw.split(' ')\n",
    "    amt = int(chem[0])\n",
    "    chem_type = chem[1]\n",
    "    return (chem_type, amt)\n",
    "\n",
    "def parse_line(reaction):\n",
    "    reactant = []\n",
    "    product = []\n",
    "    \n",
    "    sides = [r.strip() for r in reaction.split('=>')]\n",
    "    left = sides[0].split(', ')\n",
    "    right = sides[1]\n",
    "    product.append(get_chem_and_amt(right))\n",
    "    \n",
    "    for chem in left:\n",
    "        reactant.append(get_chem_and_amt(chem))\n",
    "        \n",
    "    return reactant,product\n",
    "\n",
    "def get_row_and_amt(chem_rows,chem,react = True):\n",
    "    row = chem_rows[chem[0]]\n",
    "    if react:\n",
    "        const = -1\n",
    "    else:\n",
    "        const = 1\n",
    "    amt = const*chem[1]\n",
    "    return row,amt,chem[0]\n",
    "\n",
    "def construct_graph(reactions):\n",
    "    G = nx.DiGraph()\n",
    "    RG = nx.DiGraph()\n",
    "    reactions_parsed = []\n",
    "    for r in reactions:\n",
    "        reactions_parsed.append(parse_line(r))\n",
    "        \n",
    "    for r_ctr, r in enumerate(reactions_parsed):\n",
    "        reactants = r[0]\n",
    "        product = r[1][0]\n",
    "        prod_chem,prod_amt = product\n",
    "        \n",
    "        for react in reactants:\n",
    "            react_chem,react_amt = react\n",
    "            G.add_edge(react_chem,prod_chem,weight=react_amt)\n",
    "            RG.add_edge(prod_chem,react_chem,weight=react_amt)\n",
    "        RG.nodes(data=True)[prod_chem]['produced_amt'] = prod_amt\n",
    "            \n",
    "    return G, RG\n",
    "\n",
    "def ore_for_fuel(RG,amt_required):\n",
    "    RG = RG.copy()\n",
    "    nodes = RG.nodes(data=True)\n",
    "    nodes['FUEL']['required'] = amt_required\n",
    "    products = [i for i in RG.succ if len(RG.succ[i]) > 0]\n",
    "\n",
    "    stack = ['FUEL']\n",
    "    while len(stack) > 0:\n",
    "        reaction = stack.pop()\n",
    "        node = nodes[reaction]\n",
    "        req_amt = node['required']\n",
    "        prod_amt = node.get('produced_amt',1)\n",
    "        needed = math.ceil(req_amt/prod_amt)\n",
    "        edges = RG[reaction]\n",
    "\n",
    "        for vert in edges:\n",
    "            weight = edges[vert]['weight']\n",
    "            nodes[vert]['required'] = nodes[vert].get('required',0) + needed * weight\n",
    "\n",
    "            if vert in products:\n",
    "                stack.append(vert)\n",
    "\n",
    "        node['required'] -= needed * prod_amt\n",
    "\n",
    "    return nodes['ORE']['required']\n",
    "    \n",
    "def run_pt_1(reactions):\n",
    "    G,RG = construct_graph(reactions)\n",
    "    answer = ore_for_fuel(RG,1)\n",
    "    print(answer)\n",
    "    \n",
    "def run_pt_2(reactions):\n",
    "    G,RG = construct_graph(reactions)\n",
    "    \n",
    "    TRILLION = 1000000000000\n",
    "    upper_limit = 10\n",
    "    answer = ore_for_fuel(RG,upper_limit)\n",
    "    while answer < TRILLION:\n",
    "        upper_limit *= 10\n",
    "        answer = ore_for_fuel(RG,upper_limit)\n",
    "    \n",
    "    low = upper_limit//10\n",
    "    high = upper_limit\n",
    "    best = 0\n",
    "    while low < high:\n",
    "        mid = (high+low)//2\n",
    "        answer = ore_for_fuel(RG,mid)\n",
    "        if answer < TRILLION:\n",
    "            low = mid + 1\n",
    "            best = max(best,mid)\n",
    "        elif answer > TRILLION:\n",
    "            high = mid - 1\n",
    "    mid = (high+low)//2\n",
    "    best = max(best,mid)\n",
    "    print(best)\n",
    "    "
   ]
  },
  {
   "cell_type": "code",
   "execution_count": 209,
   "metadata": {},
   "outputs": [
    {
     "name": "stdout",
     "output_type": "stream",
     "text": [
      "31\n"
     ]
    }
   ],
   "source": [
    "reactions = [\n",
    "    '10 ORE => 10 A',\n",
    "    '1 ORE => 1 B',\n",
    "    '7 A, 1 B => 1 C',\n",
    "    '7 A, 1 C => 1 D',\n",
    "    '7 A, 1 D => 1 E',\n",
    "    '7 A, 1 E => 1 FUEL',\n",
    "]\n",
    "run_pt_1(reactions)"
   ]
  },
  {
   "cell_type": "code",
   "execution_count": 210,
   "metadata": {},
   "outputs": [
    {
     "name": "stdout",
     "output_type": "stream",
     "text": [
      "165\n"
     ]
    }
   ],
   "source": [
    "reactions = ['9 ORE => 2 A',\n",
    "'8 ORE => 3 B',\n",
    "'7 ORE => 5 C',\n",
    "'3 A, 4 B => 1 AB',\n",
    "'5 B, 7 C => 1 BC',\n",
    "'4 C, 1 A => 1 CA',\n",
    "'2 AB, 3 BC, 4 CA => 1 FUEL',\n",
    "]\n",
    "run_pt_1(reactions)"
   ]
  },
  {
   "cell_type": "code",
   "execution_count": 211,
   "metadata": {},
   "outputs": [
    {
     "name": "stdout",
     "output_type": "stream",
     "text": [
      "2210736\n"
     ]
    }
   ],
   "source": [
    "reactions = [\n",
    "'171 ORE => 8 CNZTR',\n",
    "'7 ZLQW, 3 BMBT, 9 XCVML, 26 XMNCP, 1 WPTQ, 2 MZWV, 1 RJRHP => 4 PLWSL',\n",
    "'114 ORE => 4 BHXH',\n",
    "'14 VRPVC => 6 BMBT',\n",
    "'6 BHXH, 18 KTJDG, 12 WPTQ, 7 PLWSL, 31 FHTLT, 37 ZDVW => 1 FUEL',\n",
    "'6 WPTQ, 2 BMBT, 8 ZLQW, 18 KTJDG, 1 XMNCP, 6 MZWV, 1 RJRHP => 6 FHTLT',\n",
    "'15 XDBXC, 2 LTCX, 1 VRPVC => 6 ZLQW',\n",
    "'13 WPTQ, 10 LTCX, 3 RJRHP, 14 XMNCP, 2 MZWV, 1 ZLQW => 1 ZDVW',\n",
    "'5 BMBT => 4 WPTQ',\n",
    "'189 ORE => 9 KTJDG',\n",
    "'1 MZWV, 17 XDBXC, 3 XCVML => 2 XMNCP',\n",
    "'12 VRPVC, 27 CNZTR => 2 XDBXC',\n",
    "'15 KTJDG, 12 BHXH => 5 XCVML',\n",
    "'3 BHXH, 2 VRPVC => 7 MZWV',\n",
    "'121 ORE => 7 VRPVC',\n",
    "'7 XCVML => 6 RJRHP',\n",
    "'5 BHXH, 4 VRPVC => 5 LTCX',\n",
    "]\n",
    "run_pt_1(reactions)"
   ]
  },
  {
   "cell_type": "code",
   "execution_count": 212,
   "metadata": {},
   "outputs": [
    {
     "name": "stdout",
     "output_type": "stream",
     "text": [
      "337075\n"
     ]
    }
   ],
   "source": [
    "with open('input14.txt','r') as f:\n",
    "    reactions = [l.strip() for l in f.readlines()]\n",
    "run_pt_1(reactions)"
   ]
  },
  {
   "cell_type": "code",
   "execution_count": 237,
   "metadata": {},
   "outputs": [
    {
     "name": "stdout",
     "output_type": "stream",
     "text": [
      "5194174\n"
     ]
    }
   ],
   "source": [
    "run_pt_2(reactions)"
   ]
  },
  {
   "cell_type": "markdown",
   "metadata": {},
   "source": [
    "# Problem 15\n",
    "<a id=\"p15\"/>"
   ]
  },
  {
   "cell_type": "code",
   "execution_count": null,
   "metadata": {},
   "outputs": [],
   "source": [
    "import time\n",
    "from IPython.display import clear_output\n",
    "\n",
    "class Robot(Intcode):\n",
    "    moves = [[0,1],[-1,0],[0,-1],[1,0]]\n",
    "    def __init__(self,intcode,start_white=False):\n",
    "        super().__init__(instruction=intcode,input_vals=[])\n",
    "        self.robot_xy = np.array([0,0])\n",
    "        self.direction = 0 #up\n",
    "        self.panels = {}\n",
    "        \n",
    "    def get_xy(self):\n",
    "        return tuple(self.robot_xy)\n",
    "    \n",
    "    def manage_output(self):\n",
    "        pass\n",
    "        \n",
    "    def get_input(self):\n",
    "        pass\n",
    "    \n",
    "    def move_robot(self):\n",
    "        xy = self.robot_xy\n",
    "        move = self.moves[self.direction]\n",
    "        #if output == 0, don't move\n",
    "        self.robot_xy = xy + move\n",
    "        #else if output == 1, move\n",
    "        #else move and finish the game\n",
    "    \n",
    "    def set_output(self,output):\n",
    "        if self.output_state == 0:\n",
    "            #paint mode\n",
    "            xy = self.get_xy()\n",
    "            if output == 0:\n",
    "                self.panels[xy] = 0\n",
    "            else:\n",
    "                self.panels[xy] = 1\n",
    "            self.painted_panels.add(xy)\n",
    "        elif self.output_state == 1:\n",
    "            #direction mode\n",
    "            if output == 0:\n",
    "                self.direction += 1\n",
    "            elif output == 1:\n",
    "                self.direction -= 1\n",
    "            self.direction %= 4\n",
    "            self.move_robot()\n",
    "        self.output_state += 1\n",
    "        self.output_state %= 2\n",
    "    \n",
    "    def run(self):\n",
    "        pos = self.pos\n",
    "        rel_base = 0\n",
    "        while not self.is_finished():\n",
    "            self.parse(self.pos)\n",
    "        return len(self.painted_panels)\n",
    "        "
   ]
  },
  {
   "cell_type": "code",
   "execution_count": null,
   "metadata": {},
   "outputs": [],
   "source": []
  },
  {
   "cell_type": "markdown",
   "metadata": {},
   "source": [
    "# Problem 16\n",
    "<a id=\"p16\"/>"
   ]
  },
  {
   "cell_type": "code",
   "execution_count": 96,
   "metadata": {},
   "outputs": [],
   "source": [
    "import numpy as np\n",
    "\n",
    "def fft(input_signal):\n",
    "    output_signal = []\n",
    "    base_pattern = [0,1,0,-1]\n",
    "    tile_min = len(input_signal)//len(base_pattern) + 1\n",
    "    for i,v in enumerate(input_signal):\n",
    "        num_repeats = i+1\n",
    "        mult = np.tile(np.repeat(base_pattern,num_repeats),tile_min)[1:len(input_signal)+1]\n",
    "        result = abs(sum(input_signal * mult))%10\n",
    "        output_signal.append(result)\n",
    "    return output_signal\n",
    "\n",
    "def fft_repeat(signal,num_repeats):\n",
    "    input_signal = [int(i) for i in signal]\n",
    "    for i in range(num_repeats):\n",
    "        input_signal = fft(input_signal)\n",
    "    return ''.join([str(i) for i in input_signal])\n",
    "\n",
    "def part_two(signal):\n",
    "    signal = [int(i) for i in signal]\n",
    "    output_signal = []\n",
    "    running_sum = 0\n",
    "    for i in range(len(signal)-1,-1,-1):\n",
    "        running_sum += signal[i]\n",
    "        output_signal.append(running_sum%10)\n",
    "    revlist = list(reversed(output_signal))\n",
    "    return ''.join([str(i) for i in revlist])\n",
    "\n",
    "def part_two_repeat(signal, num_repeats):\n",
    "    offset = int(signal[:7])\n",
    "    repeat_signal = signal*10000\n",
    "    signal = repeat_signal[offset:]\n",
    "    for i in range(100):\n",
    "        signal = part_two(signal)\n",
    "    return signal[:8]"
   ]
  },
  {
   "cell_type": "code",
   "execution_count": 43,
   "metadata": {},
   "outputs": [],
   "source": [
    "signal = '80871224585914546619083218645595'"
   ]
  },
  {
   "cell_type": "code",
   "execution_count": 45,
   "metadata": {},
   "outputs": [
    {
     "data": {
      "text/plain": [
       "'24176176480919046114038763195595'"
      ]
     },
     "execution_count": 45,
     "metadata": {},
     "output_type": "execute_result"
    }
   ],
   "source": [
    "fft_repeat(signal,100)"
   ]
  },
  {
   "cell_type": "code",
   "execution_count": 92,
   "metadata": {},
   "outputs": [],
   "source": [
    "with open('input16.txt','r') as f:\n",
    "    signals = f.readlines()\n",
    "    \n",
    "signal = signals[0]"
   ]
  },
  {
   "cell_type": "code",
   "execution_count": 97,
   "metadata": {},
   "outputs": [
    {
     "data": {
      "text/plain": [
       "'79723033'"
      ]
     },
     "execution_count": 97,
     "metadata": {},
     "output_type": "execute_result"
    }
   ],
   "source": [
    "part_two_repeat(signal,100)"
   ]
  },
  {
   "cell_type": "code",
   "execution_count": null,
   "metadata": {},
   "outputs": [],
   "source": []
  },
  {
   "cell_type": "code",
   "execution_count": null,
   "metadata": {},
   "outputs": [],
   "source": []
  },
  {
   "cell_type": "markdown",
   "metadata": {},
   "source": [
    "# Problem 17\n",
    "<a id=\"p17\"/>"
   ]
  },
  {
   "cell_type": "code",
   "execution_count": 99,
   "metadata": {},
   "outputs": [],
   "source": [
    "with open('input17.txt','r') as f:\n",
    "    instructions = f.readlines()\n",
    "instruction = instructions[0]"
   ]
  },
  {
   "cell_type": "code",
   "execution_count": 235,
   "metadata": {},
   "outputs": [],
   "source": [
    "from IPython.display import clear_output\n",
    "\n",
    "class Camera(Intcode):\n",
    "    def __init__(self,instruction,wake=False,**kwargs):\n",
    "        super().__init__(instruction=instruction,**kwargs)\n",
    "        if wake:\n",
    "            self.set_routines()\n",
    "            self.opcode[0] = 2\n",
    "        \n",
    "        \n",
    "    def set_routines(self):\n",
    "        main_routine = 'A,C,A,C,A,B,A,B,C,B'\n",
    "        movement_routines = {\n",
    "            'A':'R,6,L,10,R,10,R,10',\n",
    "            'B':'R,6,L,12,L,10',\n",
    "            'C':'L,10,L,12,R,10',\n",
    "        }\n",
    "        calculate_view = 'n'\n",
    "        \n",
    "        movements = []\n",
    "        for i in main_routine:\n",
    "            movements.append(ord(i))\n",
    "        movements.append(10)\n",
    "        \n",
    "        for k,v in movement_routines.items():\n",
    "            inst = v.split(',')\n",
    "            for i,subinst in enumerate(inst):\n",
    "                \n",
    "                append_val = [ord(j) for j in subinst]\n",
    "                movements += append_val\n",
    "                if i < len(inst) - 1:\n",
    "                    movements.append(ord(','))\n",
    "            movements.append(10)\n",
    "        \n",
    "        movements.append(ord(calculate_view))\n",
    "        movements.append(10)\n",
    "#         print(movements)\n",
    "        \n",
    "        self.input_vals = movements\n",
    "#         print(self.input_vals)\n",
    "        \n",
    "    def calculate_view(self):\n",
    "        arr = [[]]\n",
    "        arr_ctr = 0\n",
    "        for o in self.output:\n",
    "            character = chr(o)\n",
    "            if character == '\\n':\n",
    "                arr_ctr += 1\n",
    "                arr.append([])\n",
    "            else:\n",
    "                arr[arr_ctr].append(character)\n",
    "        self.view = arr\n",
    "        \n",
    "    def draw_view(self,clear=True):\n",
    "        if clear:\n",
    "            clear_output()\n",
    "        v = self.view\n",
    "        for row in v:\n",
    "            for char in row:\n",
    "                print(char,end='')\n",
    "            print()\n",
    "    \n",
    "    def find_intersections(self):\n",
    "        v = self.view\n",
    "        intersections = []\n",
    "        for row in range(1,len(v)-1):\n",
    "            for col in range(1,len(v[row])-1):\n",
    "                check = []\n",
    "                \n",
    "                try:\n",
    "                    check.append(v[row][col])\n",
    "                    check.append(v[row-1][col])\n",
    "                    check.append(v[row+1][col])\n",
    "                    check.append(v[row][col-1])\n",
    "                    check.append(v[row][col+1])\n",
    "                    match = all(c == '#' for c in check)\n",
    "                    if match:\n",
    "                        intersections.append((row,col))\n",
    "                        v[row][col] = 'O'\n",
    "                except:\n",
    "                    pass\n",
    "        \n",
    "        self.alignment = 0\n",
    "        for i in intersections:\n",
    "            self.alignment += i[0] * i[1]\n",
    "        self.view = v\n",
    "        self.draw_view(clear=False)\n",
    "        print(f'ANSWER: {self.alignment}')\n",
    "        \n",
    "    def run(self):\n",
    "        pos = self.pos\n",
    "        rel_base = 0\n",
    "        while not self.is_finished():\n",
    "            self.parse(self.pos)\n",
    "#         if not wake:\n",
    "        self.calculate_view()\n",
    "        self.draw_view()\n",
    "        return self.view"
   ]
  },
  {
   "cell_type": "code",
   "execution_count": 174,
   "metadata": {},
   "outputs": [
    {
     "name": "stdout",
     "output_type": "stream",
     "text": [
      "..........................###########............\n",
      "..........................#.........#............\n",
      "......###########.........#.........#............\n",
      "......#.........#.........#.........#............\n",
      "......#.........#.........#...###########........\n",
      "......#.........#.........#...#.....#...#........\n",
      "......#.........#.........#...#.....###########..\n",
      "......#.........#.........#...#.........#.....#..\n",
      "......#.........#.###########.#.........#.....#..\n",
      "......#.........#.#.......#.#.#.........#.....#..\n",
      "......#.#############.....#.#.#.........#.....#..\n",
      "......#.#.......#.#.#.....#.#.#.........#.....#..\n",
      "^######.#.......###########.#.#.........#.....#..\n",
      "........#.........#.#.......#.#.........#.....#..\n",
      "........#.........#.#.......#############.....#..\n",
      "........#.........#.#.........#...............#..\n",
      "........#.........#.###########.....###########..\n",
      "........#.........#.................#............\n",
      "........#.........###########.......#............\n",
      "........#...................#.......#............\n",
      "........#...................#.......#............\n",
      "............................#.......#............\n",
      "............................#.......#............\n",
      "............................#.......#............\n",
      "............................###########..........\n",
      "....................................#.#..........\n",
      "....................................#############\n",
      "......................................#.........#\n",
      "......................................#.........#\n",
      "......................................#.........#\n",
      "......................................#.........#\n",
      "......................................#.........#\n",
      "......................................#.........#\n",
      "......................................#.........#\n",
      "......................................#.........#\n",
      "......................................#.........#\n",
      "................................#######...#######\n",
      "................................#.........#......\n",
      "................................#.........#......\n",
      "................................#.........#......\n",
      "................................#.........#......\n",
      "................................#.........#......\n",
      "................................#.........#......\n",
      "................................#.........#......\n",
      "................................#.........#......\n",
      "................................#.........#......\n",
      "................................###########......\n",
      "\n",
      "\n"
     ]
    }
   ],
   "source": [
    "i = Camera(instruction)\n",
    "a = i.run(wake=False)"
   ]
  },
  {
   "cell_type": "code",
   "execution_count": 166,
   "metadata": {
    "scrolled": true
   },
   "outputs": [
    {
     "name": "stdout",
     "output_type": "stream",
     "text": [
      "..........................###########............\n",
      "..........................#.........#............\n",
      "......###########.........#.........#............\n",
      "......#.........#.........#.........#............\n",
      "......#.........#.........#...######O####........\n",
      "......#.........#.........#...#.....#...#........\n",
      "......#.........#.........#...#.....####O######..\n",
      "......#.........#.........#...#.........#.....#..\n",
      "......#.........#.########O##.#.........#.....#..\n",
      "......#.........#.#.......#.#.#.........#.....#..\n",
      "......#.########O#O##.....#.#.#.........#.....#..\n",
      "......#.#.......#.#.#.....#.#.#.........#.....#..\n",
      "^######.#.......##O#O######.#.#.........#.....#..\n",
      "........#.........#.#.......#.#.........#.....#..\n",
      "........#.........#.#.......##O##########.....#..\n",
      "........#.........#.#.........#...............#..\n",
      "........#.........#.###########.....###########..\n",
      "........#.........#.................#............\n",
      "........#.........###########.......#............\n",
      "........#...................#.......#............\n",
      "........#...................#.......#............\n",
      "............................#.......#............\n",
      "............................#.......#............\n",
      "............................#.......#............\n",
      "............................########O##..........\n",
      "....................................#.#..........\n",
      "....................................##O##########\n",
      "......................................#.........#\n",
      "......................................#.........#\n",
      "......................................#.........#\n",
      "......................................#.........#\n",
      "......................................#.........#\n",
      "......................................#.........#\n",
      "......................................#.........#\n",
      "......................................#.........#\n",
      "......................................#.........#\n",
      "................................#######...#######\n",
      "................................#.........#......\n",
      "................................#.........#......\n",
      "................................#.........#......\n",
      "................................#.........#......\n",
      "................................#.........#......\n",
      "................................#.........#......\n",
      "................................#.........#......\n",
      "................................#.........#......\n",
      "................................#.........#......\n",
      "................................###########......\n",
      "\n",
      "\n",
      "ANSWER: 3660\n"
     ]
    }
   ],
   "source": [
    "i.find_intersections()"
   ]
  },
  {
   "cell_type": "code",
   "execution_count": 236,
   "metadata": {},
   "outputs": [],
   "source": [
    "i = Camera(instruction,wake=True,input_vals = [])\n",
    "# i.run()"
   ]
  },
  {
   "cell_type": "code",
   "execution_count": 237,
   "metadata": {},
   "outputs": [
    {
     "name": "stdout",
     "output_type": "stream",
     "text": [
      "A,C,A,C,A,B,A,B,C,B\n",
      "R,6,L,10,R,10,R,10\n",
      "R,6,L,12,L,10\n",
      "L,10,L,12,R,10\n",
      "n\n"
     ]
    }
   ],
   "source": [
    "for val in i.input_vals:\n",
    "    print(chr(val),end='')"
   ]
  },
  {
   "cell_type": "code",
   "execution_count": 241,
   "metadata": {},
   "outputs": [
    {
     "data": {
      "text/plain": [
       "[962913]"
      ]
     },
     "execution_count": 241,
     "metadata": {},
     "output_type": "execute_result"
    }
   ],
   "source": [
    "i.output[-1:]"
   ]
  },
  {
   "cell_type": "markdown",
   "metadata": {},
   "source": [
    "# Problem 18\n",
    "<a id=\"p18\"/>"
   ]
  },
  {
   "cell_type": "code",
   "execution_count": 69,
   "metadata": {},
   "outputs": [],
   "source": [
    "import networkx as nx\n",
    "\n",
    "class Node():\n",
    "    def __init__(self,name,row,col):\n",
    "        self.name = name\n",
    "        self.nearby = set()\n",
    "        self.row = row\n",
    "        self.col = col\n",
    "        \n",
    "    def __repr__(self):\n",
    "        fstr = f'Name: {self.name} Row: {self.row} Column: {self.col}'\n",
    "        return fstr\n",
    "        \n",
    "    def set_required(self,required):\n",
    "        self.required = required\n",
    "        \n",
    "    def add_nearby(self,nearby):\n",
    "        if nearby is not None:\n",
    "            self.nearby.add(nearby)\n",
    "        \n",
    "\n",
    "def parse_map(text_map):\n",
    "    node_map = [[None for j in range(len(text_map[i]))] for i in range(len(text_map))]\n",
    "    offset = [-1,1]\n",
    "    for i, row in enumerate(text_map):\n",
    "        for j, col in enumerate(row):\n",
    "            if col == '#':\n",
    "                continue\n",
    "            else:\n",
    "                n = Node(col,i,j)\n",
    "                node_map[i][j] = n\n",
    "                for val in offset:\n",
    "                    b = (i + val,j)\n",
    "                    try:\n",
    "                        nb = node_map[b[0]][b[1]]\n",
    "                        n.add_nearby(nb)\n",
    "                        nb.add_nearby(n)\n",
    "                    except:\n",
    "                        pass\n",
    "                    c = (i,j+val)\n",
    "                    try:\n",
    "                        nc = node_map[c[0]][c[1]]\n",
    "                        n.add_nearby(nc)\n",
    "                        nc.add_nearby(n)\n",
    "                    except:\n",
    "                        pass\n",
    "            if col == '@':\n",
    "                start_pos = (i,j)\n",
    "    return node_map, start_pos"
   ]
  },
  {
   "cell_type": "code",
   "execution_count": 72,
   "metadata": {},
   "outputs": [
    {
     "data": {
      "text/plain": [
       "[[None, None, None, None, None, None, None, None, None],\n",
       " [None,\n",
       "  Name: b Row: 1 Column: 1,\n",
       "  Name: . Row: 1 Column: 2,\n",
       "  Name: A Row: 1 Column: 3,\n",
       "  Name: . Row: 1 Column: 4,\n",
       "  Name: @ Row: 1 Column: 5,\n",
       "  Name: . Row: 1 Column: 6,\n",
       "  Name: a Row: 1 Column: 7,\n",
       "  None],\n",
       " [None, None, None, None, None, None, None, None, None]]"
      ]
     },
     "execution_count": 72,
     "metadata": {},
     "output_type": "execute_result"
    }
   ],
   "source": [
    "g"
   ]
  },
  {
   "cell_type": "code",
   "execution_count": 70,
   "metadata": {},
   "outputs": [],
   "source": [
    "g,start = parse_map(test_map)"
   ]
  },
  {
   "cell_type": "code",
   "execution_count": 71,
   "metadata": {},
   "outputs": [
    {
     "data": {
      "text/plain": [
       "(1, 5)"
      ]
     },
     "execution_count": 71,
     "metadata": {},
     "output_type": "execute_result"
    }
   ],
   "source": [
    "start"
   ]
  },
  {
   "cell_type": "code",
   "execution_count": 68,
   "metadata": {},
   "outputs": [
    {
     "data": {
      "text/plain": [
       "{Name: . Row: 1 Column: 2, Name: . Row: 1 Column: 4}"
      ]
     },
     "execution_count": 68,
     "metadata": {},
     "output_type": "execute_result"
    }
   ],
   "source": [
    "g[1][3].nearby"
   ]
  },
  {
   "cell_type": "code",
   "execution_count": 16,
   "metadata": {},
   "outputs": [],
   "source": [
    "test_map = \"\"\"\n",
    "#########\n",
    "#b.A.@.a#\n",
    "#########\n",
    "\"\"\"\n",
    "test_map = test_map.strip().split('\\n')"
   ]
  },
  {
   "cell_type": "markdown",
   "metadata": {},
   "source": [
    "# Problem 19\n",
    "<a id=\"p19\"/>"
   ]
  },
  {
   "cell_type": "code",
   "execution_count": 18,
   "metadata": {},
   "outputs": [],
   "source": [
    "import numpy as np"
   ]
  },
  {
   "cell_type": "code",
   "execution_count": 9,
   "metadata": {},
   "outputs": [],
   "source": [
    "with open('input19.txt','r') as f:\n",
    "    instructions = f.readlines()\n",
    "instruction = instructions[0]\n",
    "\n",
    "i = Intcode(instruction,input_vals = [0,1])"
   ]
  },
  {
   "cell_type": "code",
   "execution_count": 29,
   "metadata": {},
   "outputs": [
    {
     "name": "stdout",
     "output_type": "stream",
     "text": [
      "Answer: 215\n",
      "X.................................................\n",
      "..................................................\n",
      "..................................................\n",
      "..................................................\n",
      "...X..............................................\n",
      "....X.............................................\n",
      ".....X............................................\n",
      "......X...........................................\n",
      "......XX..........................................\n",
      ".......XX.........................................\n",
      "........X.........................................\n",
      "........XX........................................\n",
      ".........XX.......................................\n",
      "..........XX......................................\n",
      "...........XX.....................................\n",
      "...........XXX....................................\n",
      "............XXX...................................\n",
      ".............XXX..................................\n",
      ".............XXXX.................................\n",
      "..............XXX.................................\n",
      "...............XXX................................\n",
      "................XXX...............................\n",
      "................XXXX..............................\n",
      ".................XXXX.............................\n",
      "..................XXXX............................\n",
      "..................XXXXX...........................\n",
      "...................XXXXX..........................\n",
      "....................XXXXX.........................\n",
      ".....................XXXXX........................\n",
      ".....................XXXXX........................\n",
      "......................XXXXX.......................\n",
      ".......................XXXXX......................\n",
      ".......................XXXXXX.....................\n",
      "........................XXXXXX....................\n",
      ".........................XXXXXX...................\n",
      "..........................XXXXXX..................\n",
      "..........................XXXXXXX.................\n",
      "...........................XXXXXXX................\n",
      "............................XXXXXX................\n",
      ".............................XXXXXX...............\n",
      ".............................XXXXXXX..............\n",
      "..............................XXXXXXX.............\n",
      "...............................XXXXXXX............\n",
      "...............................XXXXXXXX...........\n",
      "................................XXXXXXXX..........\n",
      ".................................XXXXXXXX.........\n",
      "..................................XXXXXXXX........\n",
      "..................................XXXXXXXXX.......\n",
      "...................................XXXXXXXX.......\n",
      "....................................XXXXXXXX......\n"
     ]
    }
   ],
   "source": [
    "#\n",
    "xy = [[0 for i in range(50)] for j in range(50)]\n",
    "xychr = [['.' for i in range(50)] for j in range(50)]\n",
    "for x in range(50):\n",
    "    for y in range(50):\n",
    "        i = Intcode(instruction,input_vals = [x,y])\n",
    "        i.run()\n",
    "        res = i.output[0]\n",
    "        if res:\n",
    "            xy[y][x] = 1\n",
    "            xychr[y][x] = 'X'\n",
    "\n",
    "answer = np.sum(xy)\n",
    "print(f'Answer: {answer}')\n",
    "\n",
    "xymap = '\\n'.join([''.join(c) for c in xychr])\n",
    "print(xymap)"
   ]
  },
  {
   "cell_type": "code",
   "execution_count": 41,
   "metadata": {},
   "outputs": [],
   "source": [
    "def part_two(instruction,square_size):\n",
    "    x = 3\n",
    "    y = 4\n",
    "    found = False\n",
    "    check_coords = square_size-1\n",
    "    while not found:\n",
    "        #start at 3,4 -> found in map above\n",
    "        i = Intcode(instruction,input_vals = [x,y])\n",
    "        i.run()\n",
    "        res = i.output[0]\n",
    "        #in beam\n",
    "        if res > 0:\n",
    "            #check if all squares are in beam\n",
    "            check_x = x+check_coords\n",
    "            check_y = y-check_coords\n",
    "            i = Intcode(instruction,input_vals=[check_x,check_y])\n",
    "            i.run()\n",
    "            res = i.output[0]\n",
    "            if res > 0:\n",
    "                answer = (check_x - check_coords)*10000 + check_y\n",
    "                found = True\n",
    "            y += 1\n",
    "        #not in beam\n",
    "        else:\n",
    "            x += 1\n",
    "#         print(x,y)\n",
    "    return answer"
   ]
  },
  {
   "cell_type": "code",
   "execution_count": 42,
   "metadata": {},
   "outputs": [
    {
     "data": {
      "text/plain": [
       "7720975"
      ]
     },
     "execution_count": 42,
     "metadata": {},
     "output_type": "execute_result"
    }
   ],
   "source": [
    "part_two(instruction,100)"
   ]
  },
  {
   "cell_type": "code",
   "execution_count": null,
   "metadata": {},
   "outputs": [],
   "source": []
  },
  {
   "cell_type": "code",
   "execution_count": null,
   "metadata": {},
   "outputs": [],
   "source": []
  },
  {
   "cell_type": "code",
   "execution_count": null,
   "metadata": {},
   "outputs": [],
   "source": []
  },
  {
   "cell_type": "markdown",
   "metadata": {},
   "source": [
    "# Problem 22\n",
    "<a id=\"p22\"/>"
   ]
  },
  {
   "cell_type": "code",
   "execution_count": 50,
   "metadata": {},
   "outputs": [],
   "source": [
    "from operator import itemgetter\n",
    "import re\n",
    "\n",
    "def multisort(xs, specs):\n",
    "    for key, reverse in reversed(specs):\n",
    "        xs.sort(key=itemgetter(key), reverse=reverse)\n",
    "    return xs\n",
    "\n",
    "def new_stack(cards):\n",
    "    return list(reversed(cards))\n",
    "\n",
    "def cut(cards,n):\n",
    "    return cards[n:] + cards[:n]\n",
    "\n",
    "def deal_naive(cards,inc):\n",
    "    pos = 0\n",
    "    new_cards = [None for i in range(len(cards))]\n",
    "    ctr = 0\n",
    "    while ctr < len(cards):\n",
    "        if new_cards[pos] is None:\n",
    "            new_cards[pos] = cards[ctr]\n",
    "            ctr += 1\n",
    "        pos += inc\n",
    "        pos %= len(cards)\n",
    "    return new_cards        "
   ]
  },
  {
   "cell_type": "code",
   "execution_count": 136,
   "metadata": {},
   "outputs": [],
   "source": [
    "program = [\n",
    "'deal into new stack',\n",
    "'cut -2',\n",
    "'deal with increment 7',\n",
    "'cut 8',\n",
    "'cut -4',\n",
    "'deal with increment 7',\n",
    "'cut 3',\n",
    "'deal with increment 9',\n",
    "'deal with increment 3',\n",
    "'cut -1'\n",
    "]\n",
    "c = run_program(program,10)"
   ]
  },
  {
   "cell_type": "code",
   "execution_count": 53,
   "metadata": {},
   "outputs": [],
   "source": [
    "def lcg(modulus, a, c, seed):\n",
    "    \"\"\"Linear congruential generator.\"\"\"\n",
    "    n = 0\n",
    "    while n < modulus:\n",
    "        seed = (a * seed + c) % modulus\n",
    "        yield seed\n",
    "        n += 1\n",
    "\n",
    "def cut_la(cards,n):\n",
    "    lc = len(cards)\n",
    "    fmap = [cards[(i+n)%lc] for i in range(lc)]\n",
    "    return fmap\n",
    "\n",
    "def stack_la(cards):\n",
    "    lc = len(cards)\n",
    "    fmap = [cards[(lc-1-i)] for i in range(lc)]\n",
    "    return fmap\n",
    "\n",
    "def deal_inc(cards,inc):\n",
    "    lc = len(cards)\n",
    "    fmap = [cards[(i*(lc-inc))%lc] for i in range(lc)]\n",
    "    return fmap"
   ]
  },
  {
   "cell_type": "code",
   "execution_count": 29,
   "metadata": {},
   "outputs": [],
   "source": [
    "cards = list(range(10))"
   ]
  },
  {
   "cell_type": "code",
   "execution_count": 69,
   "metadata": {},
   "outputs": [
    {
     "data": {
      "text/plain": [
       "10307144922975"
      ]
     },
     "execution_count": 69,
     "metadata": {},
     "output_type": "execute_result"
    }
   ],
   "source": [
    "#I give up - I used someone else's solution because I can't figure out the polynomial math"
   ]
  },
  {
   "cell_type": "markdown",
   "metadata": {},
   "source": [
    "# Problem 24\n",
    "<a id=\"p24\"/>"
   ]
  },
  {
   "cell_type": "code",
   "execution_count": 154,
   "metadata": {},
   "outputs": [],
   "source": [
    "import numpy as np\n",
    "import scipy.signal as s\n",
    "\n",
    "def get_initial_grid(test=True):\n",
    "    if test:\n",
    "        grid = ['....#','#..#.','#..##','..#..','#....']\n",
    "    else:\n",
    "        grid = ['..#..','##..#','##...','#####','.#.##']\n",
    "    grid = np.array([[1 if x == '#' else 0 for x in row] for row in grid])\n",
    "    return grid\n",
    "\n",
    "def calc_neighbor_ct(grid):\n",
    "    h_hv = np.array([[0,1,0], [1,0,1], [0,1,0]])\n",
    "    neighbor_sum = s.convolve2d(grid, h_hv, mode='same')\n",
    "    return neighbor_sum\n",
    "\n",
    "def calculate_next_generation(grid):\n",
    "    neighbors = calc_neighbor_ct(grid)\n",
    "    survive = np.logical_and(grid==neighbors,grid==1)*1\n",
    "    born = np.logical_and(grid==0,np.logical_or(neighbors==1,neighbors==2))\n",
    "    next_gen = np.logical_or(survive,born)*1\n",
    "    return next_gen\n",
    "\n",
    "def calc_bio_score(grid):\n",
    "    score = np.sum(2**np.nonzero(grid.reshape(1,-1))[1])\n",
    "    return score\n",
    "\n",
    "def run_game(test=True):\n",
    "    initial_grid = get_initial_grid(test)\n",
    "    grid = initial_grid.copy()\n",
    "    seen_before = set()\n",
    "    gen_ct = 0\n",
    "    repeat = None\n",
    "    while True:\n",
    "#         print(grid)\n",
    "        seen_before.add(grid.tostring())\n",
    "        next_grid = calculate_next_generation(grid)\n",
    "        if next_grid.tostring() in seen_before:\n",
    "            repeat = next_grid\n",
    "            break\n",
    "        grid = next_grid.copy()\n",
    "        gen_ct += 1\n",
    "        \n",
    "    score = calc_bio_score(repeat)\n",
    "    return score\n",
    "        \n",
    "        \n"
   ]
  },
  {
   "cell_type": "code",
   "execution_count": 155,
   "metadata": {},
   "outputs": [
    {
     "name": "stdout",
     "output_type": "stream",
     "text": [
      "2129920\n"
     ]
    }
   ],
   "source": [
    "score = run_game(True)\n",
    "print(score)"
   ]
  },
  {
   "cell_type": "code",
   "execution_count": 156,
   "metadata": {},
   "outputs": [
    {
     "name": "stdout",
     "output_type": "stream",
     "text": [
      "2130474\n"
     ]
    }
   ],
   "source": [
    "score = run_game(False)\n",
    "print(score)"
   ]
  },
  {
   "cell_type": "code",
   "execution_count": 159,
   "metadata": {},
   "outputs": [
    {
     "name": "stdout",
     "output_type": "stream",
     "text": [
      "1923\n"
     ]
    }
   ],
   "source": [
    "#Part Two solution stolen from u/fizbin on https://www.reddit.com/r/adventofcode/comments/eewjtt/2019_day_24_solutions/fbxi6ls\n",
    "c = get_initial_grid(False)\n",
    "planet = np.zeros((405, 5, 5), dtype=int)\n",
    "planet[202] = c\n",
    "for generation in range(200):\n",
    "    tplanet = planet.copy()\n",
    "    for layer in range(1, 404):\n",
    "        c = planet[layer].copy()\n",
    "        clft = np.roll(c, 1, axis=0)\n",
    "        clft[0] = planet[layer-1, 1, 2]\n",
    "        clft[3, 2] = sum(planet[layer+1, -1, ...])\n",
    "\n",
    "        crgt = np.roll(c, -1, axis=0)\n",
    "        crgt[-1] = planet[layer-1, 3, 2]\n",
    "        crgt[1, 2] = sum(planet[layer+1, 0, ...])\n",
    "\n",
    "        cup = np.roll(c, 1, axis=1)\n",
    "        cup[..., 0] = planet[layer-1, 2, 1]\n",
    "        cup[2, 3] = sum(planet[layer+1, ..., -1])\n",
    "\n",
    "        cdn = np.roll(c, -1, axis=1)\n",
    "        cdn[..., -1] = planet[layer-1, 2, 3]\n",
    "        cdn[2, 1] = sum(planet[layer+1, ..., 0])\n",
    "\n",
    "        nbd = clft + cup + cdn + crgt\n",
    "        c = (c * ((nbd == 1).astype(int)) +\n",
    "             (1-c) * ((nbd > 0).astype(int)) * ((nbd < 3).astype(int)))\n",
    "        c[2, 2] = 0\n",
    "        tplanet[layer] = c\n",
    "\n",
    "    planet = tplanet\n",
    "#     print(generation)\n",
    "\n",
    "print(np.sum(planet))"
   ]
  },
  {
   "cell_type": "code",
   "execution_count": null,
   "metadata": {},
   "outputs": [],
   "source": []
  },
  {
   "cell_type": "code",
   "execution_count": null,
   "metadata": {},
   "outputs": [],
   "source": []
  },
  {
   "cell_type": "markdown",
   "metadata": {},
   "source": [
    "[Return to Top](#top)"
   ]
  }
 ],
 "metadata": {
  "hide_input": false,
  "kernelspec": {
   "display_name": "Python 3",
   "language": "python",
   "name": "python3"
  },
  "language_info": {
   "codemirror_mode": {
    "name": "ipython",
    "version": 3
   },
   "file_extension": ".py",
   "mimetype": "text/x-python",
   "name": "python",
   "nbconvert_exporter": "python",
   "pygments_lexer": "ipython3",
   "version": "3.7.4"
  }
 },
 "nbformat": 4,
 "nbformat_minor": 2
}
