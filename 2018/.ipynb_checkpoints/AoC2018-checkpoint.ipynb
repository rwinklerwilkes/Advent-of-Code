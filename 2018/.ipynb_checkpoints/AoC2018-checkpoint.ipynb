{
 "cells": [
  {
   "cell_type": "code",
   "execution_count": 1,
   "metadata": {},
   "outputs": [],
   "source": [
    "import numpy as np"
   ]
  },
  {
   "cell_type": "markdown",
   "metadata": {},
   "source": [
    "# Problem 1"
   ]
  },
  {
   "cell_type": "code",
   "execution_count": 19,
   "metadata": {},
   "outputs": [],
   "source": [
    "def calc_freq(start_freq,input_file):\n",
    "    freq = start_freq\n",
    "    with open(input_file,'r') as f:\n",
    "        for line in f:\n",
    "            freq += int(line)\n",
    "    return freq\n",
    "\n",
    "def calc_freq_repeat(start_freq,input_file):\n",
    "    freq = start_freq\n",
    "    repeat = set()\n",
    "    first_repeat = None\n",
    "    flines = []\n",
    "    \n",
    "    with open(input_file,'r') as f:\n",
    "        flines = [int(line) for line in f]\n",
    "        \n",
    "    while not first_repeat:\n",
    "        for i in flines:\n",
    "            freq += i\n",
    "            if freq in repeat:\n",
    "                first_repeat = freq\n",
    "                break\n",
    "            repeat.add(freq)\n",
    "    print(first_repeat)\n",
    "    return freq"
   ]
  },
  {
   "cell_type": "code",
   "execution_count": 20,
   "metadata": {},
   "outputs": [
    {
     "data": {
      "text/plain": [
       "547"
      ]
     },
     "execution_count": 20,
     "metadata": {},
     "output_type": "execute_result"
    }
   ],
   "source": [
    "calc_freq(0,'input1.txt')"
   ]
  },
  {
   "cell_type": "code",
   "execution_count": 21,
   "metadata": {},
   "outputs": [
    {
     "name": "stdout",
     "output_type": "stream",
     "text": [
      "76414\n"
     ]
    },
    {
     "data": {
      "text/plain": [
       "76414"
      ]
     },
     "execution_count": 21,
     "metadata": {},
     "output_type": "execute_result"
    }
   ],
   "source": [
    "calc_freq_repeat(0,'input1.txt')"
   ]
  },
  {
   "cell_type": "markdown",
   "metadata": {},
   "source": [
    "# Problem 2"
   ]
  },
  {
   "cell_type": "code",
   "execution_count": 31,
   "metadata": {},
   "outputs": [],
   "source": [
    "import numpy as np"
   ]
  },
  {
   "cell_type": "code",
   "execution_count": 11,
   "metadata": {},
   "outputs": [],
   "source": [
    "def calc_checksum(name_list):\n",
    "    twos = 0\n",
    "    threes = 0\n",
    "    for name in name_list:\n",
    "        char_ct = {}\n",
    "        for char in name:\n",
    "            char_ct[char] = char_ct.get(char,0) + 1\n",
    "        twos_check = (len([k for k,v in char_ct.items() if v==2]) > 0)*1\n",
    "        threes_check = (len([k for k,v in char_ct.items() if v==3]) > 0)*1\n",
    "        twos += twos_check\n",
    "        threes += threes_check\n",
    "    return twos*threes"
   ]
  },
  {
   "cell_type": "code",
   "execution_count": null,
   "metadata": {},
   "outputs": [],
   "source": [
    "          if s[i] = t[j]:\n",
    "            substitutionCost := 0\n",
    "          else:\n",
    "            substitutionCost := 1\n",
    "\n",
    "          d[i, j] := minimum(d[i-1, j] + 1,                   // deletion\n",
    "                             d[i, j-1] + 1,                   // insertion\n",
    "                             d[i-1, j-1] + substitutionCost)  // substitution\n",
    " \n",
    "  return d[m, n]"
   ]
  },
  {
   "cell_type": "code",
   "execution_count": 43,
   "metadata": {},
   "outputs": [],
   "source": [
    "def lev_dist(s,t):\n",
    "    m = len(s)\n",
    "    n = len(t)\n",
    "    \n",
    "    d = np.zeros((m,n))\n",
    "    d[:,0] = range(m)\n",
    "    d[0,:] = range(n)\n",
    "    \n",
    "    for j in range(n):\n",
    "        for i in range(m):\n",
    "            if s[i] == t[j]:\n",
    "                cost = 0\n",
    "            else:\n",
    "                cost = 1\n",
    "            d[i,j] = min(d[i-1,j]+1,\n",
    "                               d[i,j-1] + 1,\n",
    "                               d[i-1,j-1] + cost)\n",
    "        \n",
    "    return d[m-1,n-1]"
   ]
  },
  {
   "cell_type": "code",
   "execution_count": 1,
   "metadata": {},
   "outputs": [],
   "source": [
    "name_list = [\n",
    "    'abcdef',\n",
    "    'bababc',\n",
    "    'abbcde',\n",
    "    'abcccd',\n",
    "    'aabcdd',\n",
    "    'abcdee',\n",
    "    'ababab'\n",
    "]"
   ]
  },
  {
   "cell_type": "code",
   "execution_count": 13,
   "metadata": {},
   "outputs": [
    {
     "data": {
      "text/plain": [
       "12"
      ]
     },
     "execution_count": 13,
     "metadata": {},
     "output_type": "execute_result"
    }
   ],
   "source": [
    "calc_checksum(name_list)"
   ]
  },
  {
   "cell_type": "code",
   "execution_count": 17,
   "metadata": {},
   "outputs": [],
   "source": [
    "with open('input2.txt','r') as f:\n",
    "    name_list = f.readlines()\n",
    "    name_list = [name.strip() for name in name_list]"
   ]
  },
  {
   "cell_type": "code",
   "execution_count": 19,
   "metadata": {},
   "outputs": [
    {
     "data": {
      "text/plain": [
       "5750"
      ]
     },
     "execution_count": 19,
     "metadata": {},
     "output_type": "execute_result"
    }
   ],
   "source": [
    "calc_checksum(name_list)"
   ]
  },
  {
   "cell_type": "code",
   "execution_count": 47,
   "metadata": {},
   "outputs": [
    {
     "name": "stdout",
     "output_type": "stream",
     "text": [
      "tzyvunogzariwkpcbdewsmjhxi tzyvunogzariwkpcbdewmmjhxi\n"
     ]
    },
    {
     "ename": "KeyboardInterrupt",
     "evalue": "",
     "output_type": "error",
     "traceback": [
      "\u001b[1;31m---------------------------------------------------------------------------\u001b[0m",
      "\u001b[1;31mKeyboardInterrupt\u001b[0m                         Traceback (most recent call last)",
      "\u001b[1;32m<ipython-input-47-720c88969b73>\u001b[0m in \u001b[0;36m<module>\u001b[1;34m\u001b[0m\n\u001b[0;32m      1\u001b[0m \u001b[1;32mfor\u001b[0m \u001b[0ms\u001b[0m \u001b[1;32min\u001b[0m \u001b[0mname_list\u001b[0m\u001b[1;33m:\u001b[0m\u001b[1;33m\u001b[0m\u001b[1;33m\u001b[0m\u001b[0m\n\u001b[0;32m      2\u001b[0m     \u001b[1;32mfor\u001b[0m \u001b[0mt\u001b[0m \u001b[1;32min\u001b[0m \u001b[0mname_list\u001b[0m\u001b[1;33m:\u001b[0m\u001b[1;33m\u001b[0m\u001b[1;33m\u001b[0m\u001b[0m\n\u001b[1;32m----> 3\u001b[1;33m         \u001b[1;32mif\u001b[0m \u001b[0mlev_dist\u001b[0m\u001b[1;33m(\u001b[0m\u001b[0ms\u001b[0m\u001b[1;33m,\u001b[0m\u001b[0mt\u001b[0m\u001b[1;33m)\u001b[0m \u001b[1;33m==\u001b[0m \u001b[1;36m1\u001b[0m\u001b[1;33m:\u001b[0m\u001b[1;33m\u001b[0m\u001b[1;33m\u001b[0m\u001b[0m\n\u001b[0m\u001b[0;32m      4\u001b[0m             \u001b[0mprint\u001b[0m\u001b[1;33m(\u001b[0m\u001b[0ms\u001b[0m\u001b[1;33m,\u001b[0m\u001b[0mt\u001b[0m\u001b[1;33m)\u001b[0m\u001b[1;33m\u001b[0m\u001b[1;33m\u001b[0m\u001b[0m\n",
      "\u001b[1;32m<ipython-input-43-30a1bf1c57b6>\u001b[0m in \u001b[0;36mlev_dist\u001b[1;34m(s, t)\u001b[0m\n\u001b[0;32m      3\u001b[0m     \u001b[0mn\u001b[0m \u001b[1;33m=\u001b[0m \u001b[0mlen\u001b[0m\u001b[1;33m(\u001b[0m\u001b[0mt\u001b[0m\u001b[1;33m)\u001b[0m\u001b[1;33m\u001b[0m\u001b[1;33m\u001b[0m\u001b[0m\n\u001b[0;32m      4\u001b[0m \u001b[1;33m\u001b[0m\u001b[0m\n\u001b[1;32m----> 5\u001b[1;33m     \u001b[0md\u001b[0m \u001b[1;33m=\u001b[0m \u001b[0mnp\u001b[0m\u001b[1;33m.\u001b[0m\u001b[0mzeros\u001b[0m\u001b[1;33m(\u001b[0m\u001b[1;33m(\u001b[0m\u001b[0mm\u001b[0m\u001b[1;33m,\u001b[0m\u001b[0mn\u001b[0m\u001b[1;33m)\u001b[0m\u001b[1;33m)\u001b[0m\u001b[1;33m\u001b[0m\u001b[1;33m\u001b[0m\u001b[0m\n\u001b[0m\u001b[0;32m      6\u001b[0m     \u001b[0md\u001b[0m\u001b[1;33m[\u001b[0m\u001b[1;33m:\u001b[0m\u001b[1;33m,\u001b[0m\u001b[1;36m0\u001b[0m\u001b[1;33m]\u001b[0m \u001b[1;33m=\u001b[0m \u001b[0mrange\u001b[0m\u001b[1;33m(\u001b[0m\u001b[0mm\u001b[0m\u001b[1;33m)\u001b[0m\u001b[1;33m\u001b[0m\u001b[1;33m\u001b[0m\u001b[0m\n\u001b[0;32m      7\u001b[0m     \u001b[0md\u001b[0m\u001b[1;33m[\u001b[0m\u001b[1;36m0\u001b[0m\u001b[1;33m,\u001b[0m\u001b[1;33m:\u001b[0m\u001b[1;33m]\u001b[0m \u001b[1;33m=\u001b[0m \u001b[0mrange\u001b[0m\u001b[1;33m(\u001b[0m\u001b[0mn\u001b[0m\u001b[1;33m)\u001b[0m\u001b[1;33m\u001b[0m\u001b[1;33m\u001b[0m\u001b[0m\n",
      "\u001b[1;31mKeyboardInterrupt\u001b[0m: "
     ]
    }
   ],
   "source": [
    "for s in name_list:\n",
    "    for t in name_list:\n",
    "        if lev_dist(s,t) == 1:\n",
    "            print(s,t)\n",
    "            break"
   ]
  },
  {
   "cell_type": "markdown",
   "metadata": {},
   "source": [
    "# Problem 3"
   ]
  },
  {
   "cell_type": "code",
   "execution_count": 122,
   "metadata": {},
   "outputs": [],
   "source": [
    "class Claim:\n",
    "    def __init__(self,claim_str):\n",
    "        # #123 @ 3,2: 5x4\n",
    "        claim_list = claim_str.replace('@ ','').replace(':','').split(' ')\n",
    "        \n",
    "        claim_num = claim_list[0][1:]\n",
    "        self.claim_num = claim_num\n",
    "        \n",
    "        xy = claim_list[1].split(',')\n",
    "        self.x = int(xy[0])\n",
    "        self.y = int(xy[1])\n",
    "        wh = claim_list[2].split('x')\n",
    "        self.width = int(wh[0])\n",
    "        self.height = int(wh[1])\n",
    "        \n",
    "        self.max_x = self.x + self.width - 1\n",
    "        self.max_y = self.y + self.height - 1\n",
    "    \n",
    "    def get_bounds(self):\n",
    "        min_x = self.x\n",
    "        min_y = self.y\n",
    "        max_x = self.max_x\n",
    "        max_y = self.max_y\n",
    "        return (min_x,max_x,min_y,max_y)\n",
    "    \n",
    "    def contains_pt(self,pt_x,pt_y):\n",
    "        in_x = pt_x >= self.x and pt_x <= self.max_x\n",
    "        in_y = pt_y >= self.y and pt_y <= self.max_y\n",
    "        \n",
    "        return in_x and in_y\n",
    "    \n",
    "    def get_matrix(self,max_dim):\n",
    "        full_mat = np.zeros((max_dim,max_dim))\n",
    "        min_x = self.x\n",
    "        min_y = self.y\n",
    "        max_x = self.max_x + 1\n",
    "        max_y = self.max_y + 1\n",
    "        full_mat[min_x:max_x,min_y:max_y] = 1\n",
    "        return full_mat\n",
    "    \n",
    "    def get_area(self):\n",
    "        return self.width * self.height\n",
    "    \n",
    "def calculate_all_overlaps(claims):\n",
    "    max_pt = 1000\n",
    "    \n",
    "    full_mat = np.zeros((max_pt,max_pt))\n",
    "    for c in claims:\n",
    "        full_mat = full_mat + c.get_matrix(max_pt)\n",
    "    return full_mat"
   ]
  },
  {
   "cell_type": "code",
   "execution_count": 71,
   "metadata": {},
   "outputs": [],
   "source": [
    "claim_str = '#123 @ 3,2: 5x4'\n",
    "c = Claim(claim_str)"
   ]
  },
  {
   "cell_type": "code",
   "execution_count": 94,
   "metadata": {},
   "outputs": [],
   "source": [
    "claim_strs = [\n",
    "    '#1 @ 1,3: 4x4',\n",
    "    '#2 @ 3,1: 4x4',\n",
    "    '#3 @ 5,5: 2x2',\n",
    "]\n",
    "claims = [Claim(c) for c in claim_strs]"
   ]
  },
  {
   "cell_type": "code",
   "execution_count": 123,
   "metadata": {},
   "outputs": [],
   "source": [
    "with open('input3.txt','r') as f:\n",
    "    claim_list = f.readlines()\n",
    "    claim_list = [Claim(c) for c in claim_list]"
   ]
  },
  {
   "cell_type": "code",
   "execution_count": 124,
   "metadata": {},
   "outputs": [],
   "source": [
    "m = calculate_all_overlaps(claim_list)\n",
    "print('Answer: %i'%(np.sum((m >= 2)*1)))"
   ]
  },
  {
   "cell_type": "code",
   "execution_count": 133,
   "metadata": {},
   "outputs": [
    {
     "data": {
      "text/plain": [
       "107820"
      ]
     },
     "execution_count": 133,
     "metadata": {},
     "output_type": "execute_result"
    }
   ],
   "source": [
    "np.sum((m >= 2)*1)"
   ]
  }
 ],
 "metadata": {
  "hide_input": false,
  "kernelspec": {
   "display_name": "Python 3",
   "language": "python",
   "name": "python3"
  },
  "language_info": {
   "codemirror_mode": {
    "name": "ipython",
    "version": 3
   },
   "file_extension": ".py",
   "mimetype": "text/x-python",
   "name": "python",
   "nbconvert_exporter": "python",
   "pygments_lexer": "ipython3",
   "version": "3.7.1"
  }
 },
 "nbformat": 4,
 "nbformat_minor": 2
}
