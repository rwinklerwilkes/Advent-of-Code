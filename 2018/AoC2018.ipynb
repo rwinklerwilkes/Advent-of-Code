{
 "cells": [
  {
   "cell_type": "code",
   "execution_count": 1,
   "metadata": {},
   "outputs": [],
   "source": [
    "import numpy as np"
   ]
  },
  {
   "cell_type": "markdown",
   "metadata": {},
   "source": [
    "# Problem 1"
   ]
  },
  {
   "cell_type": "code",
   "execution_count": 19,
   "metadata": {},
   "outputs": [],
   "source": [
    "def calc_freq(start_freq,input_file):\n",
    "    freq = start_freq\n",
    "    with open(input_file,'r') as f:\n",
    "        for line in f:\n",
    "            freq += int(line)\n",
    "    return freq\n",
    "\n",
    "def calc_freq_repeat(start_freq,input_file):\n",
    "    freq = start_freq\n",
    "    repeat = set()\n",
    "    first_repeat = None\n",
    "    flines = []\n",
    "    \n",
    "    with open(input_file,'r') as f:\n",
    "        flines = [int(line) for line in f]\n",
    "        \n",
    "    while not first_repeat:\n",
    "        for i in flines:\n",
    "            freq += i\n",
    "            if freq in repeat:\n",
    "                first_repeat = freq\n",
    "                break\n",
    "            repeat.add(freq)\n",
    "    print(first_repeat)\n",
    "    return freq"
   ]
  },
  {
   "cell_type": "code",
   "execution_count": 20,
   "metadata": {},
   "outputs": [
    {
     "data": {
      "text/plain": [
       "547"
      ]
     },
     "execution_count": 20,
     "metadata": {},
     "output_type": "execute_result"
    }
   ],
   "source": [
    "calc_freq(0,'input1.txt')"
   ]
  },
  {
   "cell_type": "code",
   "execution_count": 21,
   "metadata": {},
   "outputs": [
    {
     "name": "stdout",
     "output_type": "stream",
     "text": [
      "76414\n"
     ]
    },
    {
     "data": {
      "text/plain": [
       "76414"
      ]
     },
     "execution_count": 21,
     "metadata": {},
     "output_type": "execute_result"
    }
   ],
   "source": [
    "calc_freq_repeat(0,'input1.txt')"
   ]
  },
  {
   "cell_type": "markdown",
   "metadata": {},
   "source": [
    "# Problem 2"
   ]
  },
  {
   "cell_type": "code",
   "execution_count": 7,
   "metadata": {},
   "outputs": [],
   "source": [
    "import numpy as np"
   ]
  },
  {
   "cell_type": "code",
   "execution_count": 11,
   "metadata": {},
   "outputs": [],
   "source": [
    "def calc_checksum(name_list):\n",
    "    twos = 0\n",
    "    threes = 0\n",
    "    for name in name_list:\n",
    "        char_ct = {}\n",
    "        for char in name:\n",
    "            char_ct[char] = char_ct.get(char,0) + 1\n",
    "        twos_check = (len([k for k,v in char_ct.items() if v==2]) > 0)*1\n",
    "        threes_check = (len([k for k,v in char_ct.items() if v==3]) > 0)*1\n",
    "        twos += twos_check\n",
    "        threes += threes_check\n",
    "    return twos*threes"
   ]
  },
  {
   "cell_type": "code",
   "execution_count": null,
   "metadata": {},
   "outputs": [],
   "source": [
    "          if s[i] = t[j]:\n",
    "            substitutionCost := 0\n",
    "          else:\n",
    "            substitutionCost := 1\n",
    "\n",
    "          d[i, j] := minimum(d[i-1, j] + 1,                   // deletion\n",
    "                             d[i, j-1] + 1,                   // insertion\n",
    "                             d[i-1, j-1] + substitutionCost)  // substitution\n",
    " \n",
    "  return d[m, n]"
   ]
  },
  {
   "cell_type": "code",
   "execution_count": 43,
   "metadata": {},
   "outputs": [],
   "source": [
    "def lev_dist(s,t):\n",
    "    m = len(s)\n",
    "    n = len(t)\n",
    "    \n",
    "    d = np.zeros((m,n))\n",
    "    d[:,0] = range(m)\n",
    "    d[0,:] = range(n)\n",
    "    \n",
    "    for j in range(n):\n",
    "        for i in range(m):\n",
    "            if s[i] == t[j]:\n",
    "                cost = 0\n",
    "            else:\n",
    "                cost = 1\n",
    "            d[i,j] = min(d[i-1,j]+1,\n",
    "                               d[i,j-1] + 1,\n",
    "                               d[i-1,j-1] + cost)\n",
    "        \n",
    "    return d[m-1,n-1]"
   ]
  },
  {
   "cell_type": "code",
   "execution_count": 1,
   "metadata": {},
   "outputs": [],
   "source": [
    "name_list = [\n",
    "    'abcdef',\n",
    "    'bababc',\n",
    "    'abbcde',\n",
    "    'abcccd',\n",
    "    'aabcdd',\n",
    "    'abcdee',\n",
    "    'ababab'\n",
    "]"
   ]
  },
  {
   "cell_type": "code",
   "execution_count": 13,
   "metadata": {},
   "outputs": [
    {
     "data": {
      "text/plain": [
       "12"
      ]
     },
     "execution_count": 13,
     "metadata": {},
     "output_type": "execute_result"
    }
   ],
   "source": [
    "calc_checksum(name_list)"
   ]
  },
  {
   "cell_type": "code",
   "execution_count": 17,
   "metadata": {},
   "outputs": [],
   "source": [
    "with open('input2.txt','r') as f:\n",
    "    name_list = f.readlines()\n",
    "    name_list = [name.strip() for name in name_list]"
   ]
  },
  {
   "cell_type": "code",
   "execution_count": 19,
   "metadata": {},
   "outputs": [
    {
     "data": {
      "text/plain": [
       "5750"
      ]
     },
     "execution_count": 19,
     "metadata": {},
     "output_type": "execute_result"
    }
   ],
   "source": [
    "calc_checksum(name_list)"
   ]
  },
  {
   "cell_type": "code",
   "execution_count": 47,
   "metadata": {},
   "outputs": [
    {
     "name": "stdout",
     "output_type": "stream",
     "text": [
      "tzyvunogzariwkpcbdewsmjhxi tzyvunogzariwkpcbdewmmjhxi\n"
     ]
    },
    {
     "ename": "KeyboardInterrupt",
     "evalue": "",
     "output_type": "error",
     "traceback": [
      "\u001b[1;31m---------------------------------------------------------------------------\u001b[0m",
      "\u001b[1;31mKeyboardInterrupt\u001b[0m                         Traceback (most recent call last)",
      "\u001b[1;32m<ipython-input-47-720c88969b73>\u001b[0m in \u001b[0;36m<module>\u001b[1;34m\u001b[0m\n\u001b[0;32m      1\u001b[0m \u001b[1;32mfor\u001b[0m \u001b[0ms\u001b[0m \u001b[1;32min\u001b[0m \u001b[0mname_list\u001b[0m\u001b[1;33m:\u001b[0m\u001b[1;33m\u001b[0m\u001b[1;33m\u001b[0m\u001b[0m\n\u001b[0;32m      2\u001b[0m     \u001b[1;32mfor\u001b[0m \u001b[0mt\u001b[0m \u001b[1;32min\u001b[0m \u001b[0mname_list\u001b[0m\u001b[1;33m:\u001b[0m\u001b[1;33m\u001b[0m\u001b[1;33m\u001b[0m\u001b[0m\n\u001b[1;32m----> 3\u001b[1;33m         \u001b[1;32mif\u001b[0m \u001b[0mlev_dist\u001b[0m\u001b[1;33m(\u001b[0m\u001b[0ms\u001b[0m\u001b[1;33m,\u001b[0m\u001b[0mt\u001b[0m\u001b[1;33m)\u001b[0m \u001b[1;33m==\u001b[0m \u001b[1;36m1\u001b[0m\u001b[1;33m:\u001b[0m\u001b[1;33m\u001b[0m\u001b[1;33m\u001b[0m\u001b[0m\n\u001b[0m\u001b[0;32m      4\u001b[0m             \u001b[0mprint\u001b[0m\u001b[1;33m(\u001b[0m\u001b[0ms\u001b[0m\u001b[1;33m,\u001b[0m\u001b[0mt\u001b[0m\u001b[1;33m)\u001b[0m\u001b[1;33m\u001b[0m\u001b[1;33m\u001b[0m\u001b[0m\n",
      "\u001b[1;32m<ipython-input-43-30a1bf1c57b6>\u001b[0m in \u001b[0;36mlev_dist\u001b[1;34m(s, t)\u001b[0m\n\u001b[0;32m      3\u001b[0m     \u001b[0mn\u001b[0m \u001b[1;33m=\u001b[0m \u001b[0mlen\u001b[0m\u001b[1;33m(\u001b[0m\u001b[0mt\u001b[0m\u001b[1;33m)\u001b[0m\u001b[1;33m\u001b[0m\u001b[1;33m\u001b[0m\u001b[0m\n\u001b[0;32m      4\u001b[0m \u001b[1;33m\u001b[0m\u001b[0m\n\u001b[1;32m----> 5\u001b[1;33m     \u001b[0md\u001b[0m \u001b[1;33m=\u001b[0m \u001b[0mnp\u001b[0m\u001b[1;33m.\u001b[0m\u001b[0mzeros\u001b[0m\u001b[1;33m(\u001b[0m\u001b[1;33m(\u001b[0m\u001b[0mm\u001b[0m\u001b[1;33m,\u001b[0m\u001b[0mn\u001b[0m\u001b[1;33m)\u001b[0m\u001b[1;33m)\u001b[0m\u001b[1;33m\u001b[0m\u001b[1;33m\u001b[0m\u001b[0m\n\u001b[0m\u001b[0;32m      6\u001b[0m     \u001b[0md\u001b[0m\u001b[1;33m[\u001b[0m\u001b[1;33m:\u001b[0m\u001b[1;33m,\u001b[0m\u001b[1;36m0\u001b[0m\u001b[1;33m]\u001b[0m \u001b[1;33m=\u001b[0m \u001b[0mrange\u001b[0m\u001b[1;33m(\u001b[0m\u001b[0mm\u001b[0m\u001b[1;33m)\u001b[0m\u001b[1;33m\u001b[0m\u001b[1;33m\u001b[0m\u001b[0m\n\u001b[0;32m      7\u001b[0m     \u001b[0md\u001b[0m\u001b[1;33m[\u001b[0m\u001b[1;36m0\u001b[0m\u001b[1;33m,\u001b[0m\u001b[1;33m:\u001b[0m\u001b[1;33m]\u001b[0m \u001b[1;33m=\u001b[0m \u001b[0mrange\u001b[0m\u001b[1;33m(\u001b[0m\u001b[0mn\u001b[0m\u001b[1;33m)\u001b[0m\u001b[1;33m\u001b[0m\u001b[1;33m\u001b[0m\u001b[0m\n",
      "\u001b[1;31mKeyboardInterrupt\u001b[0m: "
     ]
    }
   ],
   "source": [
    "for s in name_list:\n",
    "    for t in name_list:\n",
    "        if lev_dist(s,t) == 1:\n",
    "            print(s,t)\n",
    "            break"
   ]
  },
  {
   "cell_type": "markdown",
   "metadata": {},
   "source": [
    "# Problem 3"
   ]
  },
  {
   "cell_type": "code",
   "execution_count": 40,
   "metadata": {},
   "outputs": [],
   "source": [
    "class Claim:\n",
    "    def __init__(self,claim_str):\n",
    "        # #123 @ 3,2: 5x4\n",
    "        claim_list = claim_str.replace('@ ','').replace(':','').split(' ')\n",
    "        \n",
    "        claim_num = claim_list[0][1:]\n",
    "        self.claim_num = claim_num\n",
    "        \n",
    "        xy = claim_list[1].split(',')\n",
    "        self.x = int(xy[0])\n",
    "        self.y = int(xy[1])\n",
    "        wh = claim_list[2].split('x')\n",
    "        self.width = int(wh[0])\n",
    "        self.height = int(wh[1])\n",
    "        \n",
    "        self.max_x = self.x + self.width - 1\n",
    "        self.max_y = self.y + self.height - 1\n",
    "    \n",
    "    def get_bounds(self):\n",
    "        min_x = self.x\n",
    "        min_y = self.y\n",
    "        max_x = self.max_x\n",
    "        max_y = self.max_y\n",
    "        return (min_x,max_x,min_y,max_y)\n",
    "    \n",
    "    def contains_pt(self,pt_x,pt_y):\n",
    "        in_x = pt_x >= self.x and pt_x <= self.max_x\n",
    "        in_y = pt_y >= self.y and pt_y <= self.max_y\n",
    "        \n",
    "        return in_x and in_y\n",
    "    \n",
    "    def get_matrix(self,max_dim):\n",
    "        full_mat = np.zeros((max_dim,max_dim))\n",
    "        min_x = self.x\n",
    "        min_y = self.y\n",
    "        max_x = self.max_x + 1\n",
    "        max_y = self.max_y + 1\n",
    "        full_mat[min_x:max_x,min_y:max_y] = 1\n",
    "        return full_mat\n",
    "    \n",
    "    def get_area(self):\n",
    "        return self.width * self.height\n",
    "    \n",
    "def calculate_all_overlaps(claims):\n",
    "    max_pt = 1000\n",
    "    \n",
    "    full_mat = np.zeros((max_pt,max_pt))\n",
    "    for c in claims:\n",
    "        full_mat = full_mat + c.get_matrix(max_pt)\n",
    "    return full_mat\n",
    "\n",
    "def calculate_non_overlap(full_matrix,claims):\n",
    "    for c in claims:\n",
    "        n = sum(full_matrix[c.get_matrix(1000).nonzero()] > 1)\n",
    "#         print(n)\n",
    "        if n == 0:\n",
    "            print(c.claim_num)\n",
    "            break"
   ]
  },
  {
   "cell_type": "code",
   "execution_count": 3,
   "metadata": {},
   "outputs": [],
   "source": [
    "claim_str = '#123 @ 3,2: 5x4'\n",
    "c = Claim(claim_str)"
   ]
  },
  {
   "cell_type": "code",
   "execution_count": 42,
   "metadata": {},
   "outputs": [
    {
     "name": "stdout",
     "output_type": "stream",
     "text": [
      "3\n"
     ]
    }
   ],
   "source": [
    "claim_strs = [\n",
    "    '#1 @ 1,3: 4x4',\n",
    "    '#2 @ 3,1: 4x4',\n",
    "    '#3 @ 5,5: 2x2',\n",
    "]\n",
    "claims = [Claim(c) for c in claim_strs]\n",
    "m = calculate_all_overlaps(claims)\n",
    "calculate_non_overlap(m,claims)"
   ]
  },
  {
   "cell_type": "code",
   "execution_count": 43,
   "metadata": {},
   "outputs": [],
   "source": [
    "with open('input3.txt','r') as f:\n",
    "    claim_list = f.readlines()\n",
    "    claim_list = [Claim(c) for c in claim_list]"
   ]
  },
  {
   "cell_type": "code",
   "execution_count": 44,
   "metadata": {},
   "outputs": [
    {
     "name": "stdout",
     "output_type": "stream",
     "text": [
      "Answer: 107820\n"
     ]
    }
   ],
   "source": [
    "m = calculate_all_overlaps(claim_list)\n",
    "print('Answer: %i'%(np.sum((m >= 2)*1)))"
   ]
  },
  {
   "cell_type": "code",
   "execution_count": 45,
   "metadata": {},
   "outputs": [
    {
     "name": "stdout",
     "output_type": "stream",
     "text": [
      "661\n"
     ]
    }
   ],
   "source": [
    "calculate_non_overlap(m,claim_list)"
   ]
  },
  {
   "cell_type": "markdown",
   "metadata": {},
   "source": [
    "# Problem 4"
   ]
  },
  {
   "cell_type": "code",
   "execution_count": 117,
   "metadata": {},
   "outputs": [
    {
     "name": "stdout",
     "output_type": "stream",
     "text": [
      "Part One: 38813\n",
      "Part Two: 141071\n"
     ]
    }
   ],
   "source": [
    "from datetime import datetime, timedelta\n",
    "import re\n",
    "import operator\n",
    "\n",
    "class Guard():\n",
    "    def __init__(self,id_num):\n",
    "        self.id_num = id_num\n",
    "        self.days_worked = []\n",
    "        self.sleep_schedule = []\n",
    "        \n",
    "    def work(self,datetime):\n",
    "        self.days_worked.append(datetime)\n",
    "        \n",
    "    def sleep(self,sleep_time):\n",
    "        self.sleep_schedule.append([sleep_time])\n",
    "    \n",
    "    def wake(self,wake_time):\n",
    "        self.sleep_schedule[-1].append(wake_time)\n",
    "        \n",
    "    def get_time_slept(self):\n",
    "        return self.time_count, self.time_slept\n",
    "        \n",
    "    def calculate_time_slept(self):\n",
    "        self.time_slept = 0\n",
    "        self.time_count = {}\n",
    "        for s in self.sleep_schedule:\n",
    "            sleep = s[0]\n",
    "            wake = s[1]\n",
    "            self.time_slept += (wake-sleep).seconds//60\n",
    "            \n",
    "            m = timedelta(minutes=1)\n",
    "            cur_time = sleep\n",
    "            while cur_time < wake:\n",
    "                time_part = datetime.strftime(cur_time,'%H-%M')\n",
    "                self.time_count[time_part] = self.time_count.get(time_part,0) + 1\n",
    "                cur_time += m\n",
    "                \n",
    "        return self.time_count, self.time_slept\n",
    "\n",
    "# def parse_timestamp(t):\n",
    "#     dt = datetime.fromisoformat(t)\n",
    "#     return dt\n",
    "        \n",
    "def parse_input(puzzle_input):\n",
    "    guards = {}\n",
    "    events = {}\n",
    "    re_start = re.compile(r'\\[([0-9-: ]+)\\] Guard #([0-9]+) [a-zA-Z ]+')\n",
    "    re_sleep = re.compile(r'\\[([0-9-: ]+)\\] falls asleep')\n",
    "    re_wake = re.compile(r'\\[([0-9-: ]+)\\] wakes up')\n",
    "    \n",
    "    for p in puzzle_input:\n",
    "        if re_start.match(p):\n",
    "            res = re_start.match(p)\n",
    "            ts = datetime.fromisoformat(res.group(1))\n",
    "            guardnum = res.group(2)\n",
    "            g = guards.get(guardnum,Guard(guardnum))\n",
    "            guards[guardnum] = g\n",
    "            g.work(ts)\n",
    "            events[ts] = (g,'sw')\n",
    "        elif re_sleep.match(p):\n",
    "            res = re_sleep.match(p)\n",
    "            ts = datetime.fromisoformat(res.group(1))\n",
    "            events[ts] = (None,'s')\n",
    "        elif re_wake.match(p):\n",
    "            res = re_wake.match(p)\n",
    "            ts = datetime.fromisoformat(res.group(1))\n",
    "            events[ts] = (None,'w')\n",
    "            \n",
    "    events = {k:v for k,v in sorted(events.items(),key=lambda x: x[0])}\n",
    "            \n",
    "    for k,v in events.items():\n",
    "        if v[1] == 'sw':\n",
    "            cur_guard = v[0]\n",
    "        elif v[1] == 's':\n",
    "            cur_guard.sleep(k)\n",
    "        else:\n",
    "            cur_guard.wake(k)\n",
    "        \n",
    "    max_guard = None\n",
    "    max_slept = 0\n",
    "    max_time_count = None\n",
    "    for k,g in guards.items():\n",
    "        tc,ts = g.calculate_time_slept()\n",
    "        if ts > max_slept:\n",
    "            max_guard = int(k)\n",
    "            max_slept = ts\n",
    "            max_time_count = tc\n",
    "    \n",
    "    max_time = max(max_time_count.items(), key=operator.itemgetter(1))[0]\n",
    "    max_minute = int(max_time.split('-')[1])\n",
    "    answer_part_one = max_guard * max_minute\n",
    "    \n",
    "    max_guard = None\n",
    "    max_ct = 0\n",
    "    max_minute = None\n",
    "    for k,g in guards.items():\n",
    "        tc,ts = g.get_time_slept()\n",
    "        if ts > 0:\n",
    "            slept_max = max(tc.items(), key=operator.itemgetter(1))\n",
    "            slept_ct = slept_max[1]\n",
    "            slept_minute = int(slept_max[0].split('-')[1])\n",
    "            if slept_ct > max_ct:\n",
    "                max_guard = int(k)\n",
    "                max_ct = slept_ct\n",
    "                max_minute = slept_minute\n",
    "    answer_part_two = max_guard * max_minute\n",
    "            \n",
    "    return guards,events,answer_part_one,answer_part_two\n",
    "    \n",
    "\n",
    "# puzzle_input = [\n",
    "#     '[1518-11-01 00:00] Guard #10 begins shift',\n",
    "#     '[1518-11-01 00:05] falls asleep',\n",
    "#     '[1518-11-01 00:25] wakes up',\n",
    "#     '[1518-11-01 00:30] falls asleep',\n",
    "#     '[1518-11-01 00:55] wakes up',\n",
    "#     '[1518-11-01 23:58] Guard #99 begins shift',\n",
    "#     '[1518-11-02 00:40] falls asleep',\n",
    "#     '[1518-11-02 00:50] wakes up',\n",
    "#     '[1518-11-03 00:05] Guard #10 begins shift',\n",
    "#     '[1518-11-03 00:24] falls asleep',\n",
    "#     '[1518-11-03 00:29] wakes up',\n",
    "#     '[1518-11-04 00:02] Guard #99 begins shift',\n",
    "#     '[1518-11-04 00:36] falls asleep',\n",
    "#     '[1518-11-04 00:46] wakes up',\n",
    "#     '[1518-11-05 00:03] Guard #99 begins shift',\n",
    "#     '[1518-11-05 00:45] falls asleep',\n",
    "#     '[1518-11-05 00:55] wakes up'\n",
    "# ]\n",
    "with open('input4.txt','r') as f:\n",
    "    puzzle_input = [l.strip() for l in f.readlines()]\n",
    "g,e,a1,a2 = parse_input(puzzle_input)\n",
    "\n",
    "print(f'Part One: {a1}')\n",
    "print(f'Part Two: {a2}')"
   ]
  },
  {
   "cell_type": "markdown",
   "metadata": {},
   "source": [
    "# Problem 5"
   ]
  },
  {
   "cell_type": "code",
   "execution_count": 127,
   "metadata": {},
   "outputs": [],
   "source": [
    "class Node():\n",
    "    def __init__(self,data):\n",
    "        self.data = data\n",
    "        self.prev_node = None\n",
    "        self.next_node = None\n",
    "    \n",
    "    def add_prev(self,prev_node):\n",
    "        self.prev_node = prev_node\n",
    "    \n",
    "    def add_next(self,next_node):\n",
    "        self.next_node = next_node\n",
    "        if next_node is not None:\n",
    "            next_node.add_prev(self)\n",
    "            r = self.react()\n",
    "        else:\n",
    "            r = False\n",
    "        return r\n",
    "    \n",
    "    def add(self,node):\n",
    "        s = self\n",
    "        while s.next_node:\n",
    "            s = s.next_node\n",
    "        s.add_next(node)\n",
    "    \n",
    "    def react(self):\n",
    "        i = self.data\n",
    "        j = self.next_node.data\n",
    "        #same element, react and remove both elements from linked list\n",
    "        if i.lower()==j.lower() and i!=j:\n",
    "            next_next = self.next_node.next_node\n",
    "            self.prev_node.add_next(next_next)\n",
    "            return True\n",
    "        else:\n",
    "            return False\n",
    "            \n",
    "    def get_list(self):\n",
    "        s = self\n",
    "        d = []\n",
    "        while s:\n",
    "            d.append(s.data)\n",
    "            s = s.next_node\n",
    "        return d"
   ]
  },
  {
   "cell_type": "code",
   "execution_count": 133,
   "metadata": {},
   "outputs": [],
   "source": [
    "class LinkedList():\n",
    "    def __init__(self):\n",
    "        self.start = Node('start')\n",
    "        self.last_node = self.start\n",
    "        \n",
    "    def add(self,data):\n",
    "        d = Node(data)\n",
    "        reacted = self.last_node.add_next(d)\n",
    "        if reacted:\n",
    "#             print('REACTED')\n",
    "            #find last node\n",
    "            s = self.start\n",
    "            while s.next_node:\n",
    "                s = s.next_node\n",
    "            self.last_node = s\n",
    "        else:\n",
    "            self.last_node = self.last_node.next_node\n",
    "            \n",
    "    def get_list(self):\n",
    "        s = self.start.next_node\n",
    "        d = []\n",
    "        while s:\n",
    "            d.append(s.data)\n",
    "            s = s.next_node\n",
    "        return d"
   ]
  },
  {
   "cell_type": "code",
   "execution_count": 137,
   "metadata": {},
   "outputs": [
    {
     "data": {
      "text/plain": [
       "10"
      ]
     },
     "execution_count": 137,
     "metadata": {},
     "output_type": "execute_result"
    }
   ],
   "source": [
    "start = Node('start')\n",
    "polymer = 'dabAcCaCBAcCcaDA'\n",
    "s = start\n",
    "for i in polymer:\n",
    "    n = Node(i)\n",
    "    s.add(n)\n",
    "\n",
    "len(start.get_list()[1:])"
   ]
  },
  {
   "cell_type": "code",
   "execution_count": 167,
   "metadata": {},
   "outputs": [],
   "source": [
    "with open('input5.txt','r') as f:\n",
    "    polymer = f.readlines()[0].strip()\n",
    "    \n",
    "#One method, quick\n",
    "\n",
    "def collapse_polymer(polymer_string, letter_to_remove=None):\n",
    "    if letter_to_remove:\n",
    "        new_polymer_string = [i for i in polymer_string if i.lower()!=letter_to_remove]\n",
    "    else:\n",
    "        new_polymer_string = polymer_string\n",
    "    stack = []\n",
    "    for i in new_polymer_string:\n",
    "        if len(stack) == 0:\n",
    "            stack.append(i)\n",
    "            continue\n",
    "        j = stack[-1]\n",
    "        if i.lower() != j.lower():\n",
    "            stack.append(i)\n",
    "        elif i != j:\n",
    "            _ = stack.pop()\n",
    "        else:\n",
    "            stack.append(i)\n",
    "    return len(stack)\n",
    "        \n",
    "#Linked list method, bad and slow\n",
    "\n",
    "def collapse_polymer_ll(polymer_string):\n",
    "    l = LinkedList()\n",
    "    for i in polymer_string:\n",
    "        l.add(i)\n",
    "    \n",
    "    return len(l.get_list())"
   ]
  },
  {
   "cell_type": "code",
   "execution_count": 169,
   "metadata": {},
   "outputs": [
    {
     "data": {
      "text/plain": [
       "9390"
      ]
     },
     "execution_count": 169,
     "metadata": {},
     "output_type": "execute_result"
    }
   ],
   "source": [
    "for collapse_polymer(polymer,'a')"
   ]
  },
  {
   "cell_type": "code",
   "execution_count": 172,
   "metadata": {},
   "outputs": [
    {
     "name": "stdout",
     "output_type": "stream",
     "text": [
      "6484\n"
     ]
    }
   ],
   "source": [
    "min_len = None\n",
    "for i in range(97,123):\n",
    "    a = collapse_polymer(polymer,chr(i))\n",
    "    if not min_len or a < min_len:\n",
    "        min_len = a\n",
    "        \n",
    "print(min_len)"
   ]
  },
  {
   "cell_type": "code",
   "execution_count": null,
   "metadata": {},
   "outputs": [],
   "source": []
  }
 ],
 "metadata": {
  "hide_input": false,
  "kernelspec": {
   "display_name": "Python 3",
   "language": "python",
   "name": "python3"
  },
  "language_info": {
   "codemirror_mode": {
    "name": "ipython",
    "version": 3
   },
   "file_extension": ".py",
   "mimetype": "text/x-python",
   "name": "python",
   "nbconvert_exporter": "python",
   "pygments_lexer": "ipython3",
   "version": "3.7.4"
  },
  "varInspector": {
   "cols": {
    "lenName": 16,
    "lenType": 16,
    "lenVar": 40
   },
   "kernels_config": {
    "python": {
     "delete_cmd_postfix": "",
     "delete_cmd_prefix": "del ",
     "library": "var_list.py",
     "varRefreshCmd": "print(var_dic_list())"
    },
    "r": {
     "delete_cmd_postfix": ") ",
     "delete_cmd_prefix": "rm(",
     "library": "var_list.r",
     "varRefreshCmd": "cat(var_dic_list()) "
    }
   },
   "types_to_exclude": [
    "module",
    "function",
    "builtin_function_or_method",
    "instance",
    "_Feature"
   ],
   "window_display": false
  }
 },
 "nbformat": 4,
 "nbformat_minor": 2
}
