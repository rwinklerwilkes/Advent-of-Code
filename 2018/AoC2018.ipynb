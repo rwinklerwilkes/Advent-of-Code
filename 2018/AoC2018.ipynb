{
 "cells": [
  {
   "cell_type": "code",
   "execution_count": 1,
   "metadata": {},
   "outputs": [],
   "source": [
    "import numpy as np"
   ]
  },
  {
   "cell_type": "markdown",
   "metadata": {},
   "source": [
    "# Problem 1"
   ]
  },
  {
   "cell_type": "code",
   "execution_count": 19,
   "metadata": {},
   "outputs": [],
   "source": [
    "def calc_freq(start_freq,input_file):\n",
    "    freq = start_freq\n",
    "    with open(input_file,'r') as f:\n",
    "        for line in f:\n",
    "            freq += int(line)\n",
    "    return freq\n",
    "\n",
    "def calc_freq_repeat(start_freq,input_file):\n",
    "    freq = start_freq\n",
    "    repeat = set()\n",
    "    first_repeat = None\n",
    "    flines = []\n",
    "    \n",
    "    with open(input_file,'r') as f:\n",
    "        flines = [int(line) for line in f]\n",
    "        \n",
    "    while not first_repeat:\n",
    "        for i in flines:\n",
    "            freq += i\n",
    "            if freq in repeat:\n",
    "                first_repeat = freq\n",
    "                break\n",
    "            repeat.add(freq)\n",
    "    print(first_repeat)\n",
    "    return freq"
   ]
  },
  {
   "cell_type": "code",
   "execution_count": 20,
   "metadata": {},
   "outputs": [
    {
     "data": {
      "text/plain": [
       "547"
      ]
     },
     "execution_count": 20,
     "metadata": {},
     "output_type": "execute_result"
    }
   ],
   "source": [
    "calc_freq(0,'input1.txt')"
   ]
  },
  {
   "cell_type": "code",
   "execution_count": 21,
   "metadata": {},
   "outputs": [
    {
     "name": "stdout",
     "output_type": "stream",
     "text": [
      "76414\n"
     ]
    },
    {
     "data": {
      "text/plain": [
       "76414"
      ]
     },
     "execution_count": 21,
     "metadata": {},
     "output_type": "execute_result"
    }
   ],
   "source": [
    "calc_freq_repeat(0,'input1.txt')"
   ]
  },
  {
   "cell_type": "markdown",
   "metadata": {},
   "source": [
    "# Problem 2"
   ]
  },
  {
   "cell_type": "code",
   "execution_count": 7,
   "metadata": {},
   "outputs": [],
   "source": [
    "import numpy as np"
   ]
  },
  {
   "cell_type": "code",
   "execution_count": 11,
   "metadata": {},
   "outputs": [],
   "source": [
    "def calc_checksum(name_list):\n",
    "    twos = 0\n",
    "    threes = 0\n",
    "    for name in name_list:\n",
    "        char_ct = {}\n",
    "        for char in name:\n",
    "            char_ct[char] = char_ct.get(char,0) + 1\n",
    "        twos_check = (len([k for k,v in char_ct.items() if v==2]) > 0)*1\n",
    "        threes_check = (len([k for k,v in char_ct.items() if v==3]) > 0)*1\n",
    "        twos += twos_check\n",
    "        threes += threes_check\n",
    "    return twos*threes"
   ]
  },
  {
   "cell_type": "code",
   "execution_count": null,
   "metadata": {},
   "outputs": [],
   "source": [
    "          if s[i] = t[j]:\n",
    "            substitutionCost := 0\n",
    "          else:\n",
    "            substitutionCost := 1\n",
    "\n",
    "          d[i, j] := minimum(d[i-1, j] + 1,                   // deletion\n",
    "                             d[i, j-1] + 1,                   // insertion\n",
    "                             d[i-1, j-1] + substitutionCost)  // substitution\n",
    " \n",
    "  return d[m, n]"
   ]
  },
  {
   "cell_type": "code",
   "execution_count": 43,
   "metadata": {},
   "outputs": [],
   "source": [
    "def lev_dist(s,t):\n",
    "    m = len(s)\n",
    "    n = len(t)\n",
    "    \n",
    "    d = np.zeros((m,n))\n",
    "    d[:,0] = range(m)\n",
    "    d[0,:] = range(n)\n",
    "    \n",
    "    for j in range(n):\n",
    "        for i in range(m):\n",
    "            if s[i] == t[j]:\n",
    "                cost = 0\n",
    "            else:\n",
    "                cost = 1\n",
    "            d[i,j] = min(d[i-1,j]+1,\n",
    "                               d[i,j-1] + 1,\n",
    "                               d[i-1,j-1] + cost)\n",
    "        \n",
    "    return d[m-1,n-1]"
   ]
  },
  {
   "cell_type": "code",
   "execution_count": 1,
   "metadata": {},
   "outputs": [],
   "source": [
    "name_list = [\n",
    "    'abcdef',\n",
    "    'bababc',\n",
    "    'abbcde',\n",
    "    'abcccd',\n",
    "    'aabcdd',\n",
    "    'abcdee',\n",
    "    'ababab'\n",
    "]"
   ]
  },
  {
   "cell_type": "code",
   "execution_count": 13,
   "metadata": {},
   "outputs": [
    {
     "data": {
      "text/plain": [
       "12"
      ]
     },
     "execution_count": 13,
     "metadata": {},
     "output_type": "execute_result"
    }
   ],
   "source": [
    "calc_checksum(name_list)"
   ]
  },
  {
   "cell_type": "code",
   "execution_count": 17,
   "metadata": {},
   "outputs": [],
   "source": [
    "with open('input2.txt','r') as f:\n",
    "    name_list = f.readlines()\n",
    "    name_list = [name.strip() for name in name_list]"
   ]
  },
  {
   "cell_type": "code",
   "execution_count": 19,
   "metadata": {},
   "outputs": [
    {
     "data": {
      "text/plain": [
       "5750"
      ]
     },
     "execution_count": 19,
     "metadata": {},
     "output_type": "execute_result"
    }
   ],
   "source": [
    "calc_checksum(name_list)"
   ]
  },
  {
   "cell_type": "code",
   "execution_count": 47,
   "metadata": {},
   "outputs": [
    {
     "name": "stdout",
     "output_type": "stream",
     "text": [
      "tzyvunogzariwkpcbdewsmjhxi tzyvunogzariwkpcbdewmmjhxi\n"
     ]
    },
    {
     "ename": "KeyboardInterrupt",
     "evalue": "",
     "output_type": "error",
     "traceback": [
      "\u001b[1;31m---------------------------------------------------------------------------\u001b[0m",
      "\u001b[1;31mKeyboardInterrupt\u001b[0m                         Traceback (most recent call last)",
      "\u001b[1;32m<ipython-input-47-720c88969b73>\u001b[0m in \u001b[0;36m<module>\u001b[1;34m\u001b[0m\n\u001b[0;32m      1\u001b[0m \u001b[1;32mfor\u001b[0m \u001b[0ms\u001b[0m \u001b[1;32min\u001b[0m \u001b[0mname_list\u001b[0m\u001b[1;33m:\u001b[0m\u001b[1;33m\u001b[0m\u001b[1;33m\u001b[0m\u001b[0m\n\u001b[0;32m      2\u001b[0m     \u001b[1;32mfor\u001b[0m \u001b[0mt\u001b[0m \u001b[1;32min\u001b[0m \u001b[0mname_list\u001b[0m\u001b[1;33m:\u001b[0m\u001b[1;33m\u001b[0m\u001b[1;33m\u001b[0m\u001b[0m\n\u001b[1;32m----> 3\u001b[1;33m         \u001b[1;32mif\u001b[0m \u001b[0mlev_dist\u001b[0m\u001b[1;33m(\u001b[0m\u001b[0ms\u001b[0m\u001b[1;33m,\u001b[0m\u001b[0mt\u001b[0m\u001b[1;33m)\u001b[0m \u001b[1;33m==\u001b[0m \u001b[1;36m1\u001b[0m\u001b[1;33m:\u001b[0m\u001b[1;33m\u001b[0m\u001b[1;33m\u001b[0m\u001b[0m\n\u001b[0m\u001b[0;32m      4\u001b[0m             \u001b[0mprint\u001b[0m\u001b[1;33m(\u001b[0m\u001b[0ms\u001b[0m\u001b[1;33m,\u001b[0m\u001b[0mt\u001b[0m\u001b[1;33m)\u001b[0m\u001b[1;33m\u001b[0m\u001b[1;33m\u001b[0m\u001b[0m\n",
      "\u001b[1;32m<ipython-input-43-30a1bf1c57b6>\u001b[0m in \u001b[0;36mlev_dist\u001b[1;34m(s, t)\u001b[0m\n\u001b[0;32m      3\u001b[0m     \u001b[0mn\u001b[0m \u001b[1;33m=\u001b[0m \u001b[0mlen\u001b[0m\u001b[1;33m(\u001b[0m\u001b[0mt\u001b[0m\u001b[1;33m)\u001b[0m\u001b[1;33m\u001b[0m\u001b[1;33m\u001b[0m\u001b[0m\n\u001b[0;32m      4\u001b[0m \u001b[1;33m\u001b[0m\u001b[0m\n\u001b[1;32m----> 5\u001b[1;33m     \u001b[0md\u001b[0m \u001b[1;33m=\u001b[0m \u001b[0mnp\u001b[0m\u001b[1;33m.\u001b[0m\u001b[0mzeros\u001b[0m\u001b[1;33m(\u001b[0m\u001b[1;33m(\u001b[0m\u001b[0mm\u001b[0m\u001b[1;33m,\u001b[0m\u001b[0mn\u001b[0m\u001b[1;33m)\u001b[0m\u001b[1;33m)\u001b[0m\u001b[1;33m\u001b[0m\u001b[1;33m\u001b[0m\u001b[0m\n\u001b[0m\u001b[0;32m      6\u001b[0m     \u001b[0md\u001b[0m\u001b[1;33m[\u001b[0m\u001b[1;33m:\u001b[0m\u001b[1;33m,\u001b[0m\u001b[1;36m0\u001b[0m\u001b[1;33m]\u001b[0m \u001b[1;33m=\u001b[0m \u001b[0mrange\u001b[0m\u001b[1;33m(\u001b[0m\u001b[0mm\u001b[0m\u001b[1;33m)\u001b[0m\u001b[1;33m\u001b[0m\u001b[1;33m\u001b[0m\u001b[0m\n\u001b[0;32m      7\u001b[0m     \u001b[0md\u001b[0m\u001b[1;33m[\u001b[0m\u001b[1;36m0\u001b[0m\u001b[1;33m,\u001b[0m\u001b[1;33m:\u001b[0m\u001b[1;33m]\u001b[0m \u001b[1;33m=\u001b[0m \u001b[0mrange\u001b[0m\u001b[1;33m(\u001b[0m\u001b[0mn\u001b[0m\u001b[1;33m)\u001b[0m\u001b[1;33m\u001b[0m\u001b[1;33m\u001b[0m\u001b[0m\n",
      "\u001b[1;31mKeyboardInterrupt\u001b[0m: "
     ]
    }
   ],
   "source": [
    "for s in name_list:\n",
    "    for t in name_list:\n",
    "        if lev_dist(s,t) == 1:\n",
    "            print(s,t)\n",
    "            break"
   ]
  },
  {
   "cell_type": "markdown",
   "metadata": {},
   "source": [
    "# Problem 3"
   ]
  },
  {
   "cell_type": "code",
   "execution_count": 40,
   "metadata": {},
   "outputs": [],
   "source": [
    "class Claim:\n",
    "    def __init__(self,claim_str):\n",
    "        # #123 @ 3,2: 5x4\n",
    "        claim_list = claim_str.replace('@ ','').replace(':','').split(' ')\n",
    "        \n",
    "        claim_num = claim_list[0][1:]\n",
    "        self.claim_num = claim_num\n",
    "        \n",
    "        xy = claim_list[1].split(',')\n",
    "        self.x = int(xy[0])\n",
    "        self.y = int(xy[1])\n",
    "        wh = claim_list[2].split('x')\n",
    "        self.width = int(wh[0])\n",
    "        self.height = int(wh[1])\n",
    "        \n",
    "        self.max_x = self.x + self.width - 1\n",
    "        self.max_y = self.y + self.height - 1\n",
    "    \n",
    "    def get_bounds(self):\n",
    "        min_x = self.x\n",
    "        min_y = self.y\n",
    "        max_x = self.max_x\n",
    "        max_y = self.max_y\n",
    "        return (min_x,max_x,min_y,max_y)\n",
    "    \n",
    "    def contains_pt(self,pt_x,pt_y):\n",
    "        in_x = pt_x >= self.x and pt_x <= self.max_x\n",
    "        in_y = pt_y >= self.y and pt_y <= self.max_y\n",
    "        \n",
    "        return in_x and in_y\n",
    "    \n",
    "    def get_matrix(self,max_dim):\n",
    "        full_mat = np.zeros((max_dim,max_dim))\n",
    "        min_x = self.x\n",
    "        min_y = self.y\n",
    "        max_x = self.max_x + 1\n",
    "        max_y = self.max_y + 1\n",
    "        full_mat[min_x:max_x,min_y:max_y] = 1\n",
    "        return full_mat\n",
    "    \n",
    "    def get_area(self):\n",
    "        return self.width * self.height\n",
    "    \n",
    "def calculate_all_overlaps(claims):\n",
    "    max_pt = 1000\n",
    "    \n",
    "    full_mat = np.zeros((max_pt,max_pt))\n",
    "    for c in claims:\n",
    "        full_mat = full_mat + c.get_matrix(max_pt)\n",
    "    return full_mat\n",
    "\n",
    "def calculate_non_overlap(full_matrix,claims):\n",
    "    for c in claims:\n",
    "        n = sum(full_matrix[c.get_matrix(1000).nonzero()] > 1)\n",
    "#         print(n)\n",
    "        if n == 0:\n",
    "            print(c.claim_num)\n",
    "            break"
   ]
  },
  {
   "cell_type": "code",
   "execution_count": 3,
   "metadata": {},
   "outputs": [],
   "source": [
    "claim_str = '#123 @ 3,2: 5x4'\n",
    "c = Claim(claim_str)"
   ]
  },
  {
   "cell_type": "code",
   "execution_count": 42,
   "metadata": {},
   "outputs": [
    {
     "name": "stdout",
     "output_type": "stream",
     "text": [
      "3\n"
     ]
    }
   ],
   "source": [
    "claim_strs = [\n",
    "    '#1 @ 1,3: 4x4',\n",
    "    '#2 @ 3,1: 4x4',\n",
    "    '#3 @ 5,5: 2x2',\n",
    "]\n",
    "claims = [Claim(c) for c in claim_strs]\n",
    "m = calculate_all_overlaps(claims)\n",
    "calculate_non_overlap(m,claims)"
   ]
  },
  {
   "cell_type": "code",
   "execution_count": 43,
   "metadata": {},
   "outputs": [],
   "source": [
    "with open('input3.txt','r') as f:\n",
    "    claim_list = f.readlines()\n",
    "    claim_list = [Claim(c) for c in claim_list]"
   ]
  },
  {
   "cell_type": "code",
   "execution_count": 44,
   "metadata": {},
   "outputs": [
    {
     "name": "stdout",
     "output_type": "stream",
     "text": [
      "Answer: 107820\n"
     ]
    }
   ],
   "source": [
    "m = calculate_all_overlaps(claim_list)\n",
    "print('Answer: %i'%(np.sum((m >= 2)*1)))"
   ]
  },
  {
   "cell_type": "code",
   "execution_count": 45,
   "metadata": {},
   "outputs": [
    {
     "name": "stdout",
     "output_type": "stream",
     "text": [
      "661\n"
     ]
    }
   ],
   "source": [
    "calculate_non_overlap(m,claim_list)"
   ]
  },
  {
   "cell_type": "markdown",
   "metadata": {},
   "source": [
    "# Problem 4"
   ]
  },
  {
   "cell_type": "code",
   "execution_count": 3,
   "metadata": {},
   "outputs": [],
   "source": [
    "from datetime import datetime\n",
    "\n",
    "class Guard():\n",
    "    def __init__(self,id_num):\n",
    "        self.id_num = id_num\n",
    "        self.days_worked = []\n",
    "        self.time_slept = {}\n",
    "        \n",
    "    def work(self,datetime):\n",
    "        self.days_worked.append(datetime)\n",
    "        \n",
    "    def sleep(self,day,time,wake=1):\n",
    "        sleep_list = [None,None]\n",
    "        sleep_list[wake] = time\n",
    "        self.time_slept[day] = sleep_list\n",
    "\n",
    "def parse_timestamp(t):\n",
    "    dt = datetime.fromisoformat(t[1:])\n",
    "    return dt\n",
    "        \n",
    "def parse_input(puzzle_input):\n",
    "    guards = {}\n",
    "    sleep = []\n",
    "    wake = []\n",
    "    \n",
    "    for p in puzzle_input:\n",
    "        p_split = p.split(' ')\n",
    "        ts = parse_timestamp(p_split[0])\n",
    "        if 'falls' in p:\n",
    "            sleep.append(ts)\n",
    "        elif 'wakes' in p:\n",
    "            wake.append(ts)\n",
    "        else:\n",
    "            guardnum = [int(i[1:]) for i in p_split if i[0] == '#'][0]\n",
    "            g = Guard(guardnum)\n",
    "            g.work(ts)\n",
    "            guards[guardnum] = g\n",
    "            \n",
    "    return sleep, wake, guards\n",
    "    \n",
    "\n",
    "puzzle_input = [\n",
    "    '[1518-11-01 00:00] Guard #10 begins shift',\n",
    "    '[1518-11-01 00:05] falls asleep',\n",
    "    '[1518-11-01 00:25] wakes up',\n",
    "    '[1518-11-01 00:30] falls asleep',\n",
    "    '[1518-11-01 00:55] wakes up',\n",
    "    '[1518-11-01 23:58] Guard #99 begins shift',\n",
    "    '[1518-11-02 00:40] falls asleep',\n",
    "    '[1518-11-02 00:50] wakes up',\n",
    "    '[1518-11-03 00:05] Guard #10 begins shift',\n",
    "    '[1518-11-03 00:24] falls asleep',\n",
    "    '[1518-11-03 00:29] wakes up',\n",
    "    '[1518-11-04 00:02] Guard #99 begins shift',\n",
    "    '[1518-11-04 00:36] falls asleep',\n",
    "    '[1518-11-04 00:46] wakes up',\n",
    "    '[1518-11-05 00:03] Guard #99 begins shift',\n",
    "    '[1518-11-05 00:45] falls asleep',\n",
    "    '[1518-11-05 00:55] wakes up'\n",
    "]\n",
    "s,w,g = parse_input(puzzle_input)"
   ]
  },
  {
   "cell_type": "code",
   "execution_count": 6,
   "metadata": {},
   "outputs": [
    {
     "data": {
      "text/plain": [
       "[datetime.datetime(1518, 11, 1, 0, 0),\n",
       " datetime.datetime(1518, 11, 1, 0, 0),\n",
       " datetime.datetime(1518, 11, 2, 0, 0),\n",
       " datetime.datetime(1518, 11, 3, 0, 0),\n",
       " datetime.datetime(1518, 11, 4, 0, 0),\n",
       " datetime.datetime(1518, 11, 5, 0, 0)]"
      ]
     },
     "execution_count": 6,
     "metadata": {},
     "output_type": "execute_result"
    }
   ],
   "source": [
    "s"
   ]
  },
  {
   "cell_type": "code",
   "execution_count": null,
   "metadata": {},
   "outputs": [],
   "source": []
  }
 ],
 "metadata": {
  "hide_input": false,
  "kernelspec": {
   "display_name": "Python 3",
   "language": "python",
   "name": "python3"
  },
  "language_info": {
   "codemirror_mode": {
    "name": "ipython",
    "version": 3
   },
   "file_extension": ".py",
   "mimetype": "text/x-python",
   "name": "python",
   "nbconvert_exporter": "python",
   "pygments_lexer": "ipython3",
   "version": "3.7.4"
  },
  "varInspector": {
   "cols": {
    "lenName": 16,
    "lenType": 16,
    "lenVar": 40
   },
   "kernels_config": {
    "python": {
     "delete_cmd_postfix": "",
     "delete_cmd_prefix": "del ",
     "library": "var_list.py",
     "varRefreshCmd": "print(var_dic_list())"
    },
    "r": {
     "delete_cmd_postfix": ") ",
     "delete_cmd_prefix": "rm(",
     "library": "var_list.r",
     "varRefreshCmd": "cat(var_dic_list()) "
    }
   },
   "types_to_exclude": [
    "module",
    "function",
    "builtin_function_or_method",
    "instance",
    "_Feature"
   ],
   "window_display": false
  }
 },
 "nbformat": 4,
 "nbformat_minor": 2
}
